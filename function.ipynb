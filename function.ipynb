{
 "cells": [
  {
   "cell_type": "markdown",
   "id": "ad1a0825-2a79-4047-9d70-1c0ce8ed9aea",
   "metadata": {},
   "source": [
    "# Python Function\n"
   ]
  },
  {
   "cell_type": "markdown",
   "id": "05db27bd-15e9-41ef-a43a-f43723215336",
   "metadata": {},
   "source": [
    "# Creating a Function\n"
   ]
  },
  {
   "cell_type": "code",
   "execution_count": 3,
   "id": "baefeed8-dcf0-4fda-9ea2-91810d4afde3",
   "metadata": {},
   "outputs": [
    {
     "name": "stdout",
     "output_type": "stream",
     "text": [
      "Learning Pyhton! :)\n"
     ]
    }
   ],
   "source": [
    "def greet():\n",
    "  print(\"Learning Pyhton! :)\")\n",
    "\n",
    "greet()"
   ]
  },
  {
   "cell_type": "markdown",
   "id": "032f7223-ab7d-4555-813a-ca068d0be5b3",
   "metadata": {},
   "source": [
    "# Return Values\n"
   ]
  },
  {
   "cell_type": "code",
   "execution_count": 4,
   "id": "2f04465c-60db-4c69-ae12-bf1767f00db4",
   "metadata": {},
   "outputs": [
    {
     "data": {
      "text/plain": [
       "27"
      ]
     },
     "execution_count": 4,
     "metadata": {},
     "output_type": "execute_result"
    }
   ],
   "source": [
    "def calculation():\n",
    "  return 3*9\n",
    "\n",
    "calculation()"
   ]
  },
  {
   "cell_type": "markdown",
   "id": "499d9b3f-379c-46de-9bf2-9a2002f8f97f",
   "metadata": {},
   "source": [
    "# Python Function Arguments\n"
   ]
  },
  {
   "cell_type": "markdown",
   "id": "11a7e0b2-ca37-4de6-8ac5-7209d439c503",
   "metadata": {},
   "source": [
    "# Default paramenter functions\n"
   ]
  },
  {
   "cell_type": "code",
   "execution_count": 5,
   "id": "c157855e-e971-479e-85bf-19551e4dcd8d",
   "metadata": {},
   "outputs": [
    {
     "name": "stdout",
     "output_type": "stream",
     "text": [
      "Hello Emil\n",
      "Hello Tobias\n",
      "Hello friend\n",
      "Hello Linus\n"
     ]
    }
   ],
   "source": [
    "def my_function(name = \"friend\"):\n",
    "  print(\"Hello\", name)\n",
    "\n",
    "my_function(\"Emil\")\n",
    "my_function(\"Tobias\")\n",
    "my_function()\n",
    "my_function(\"Linus\")"
   ]
  },
  {
   "cell_type": "markdown",
   "id": "3470868c-d79e-4d8b-9f1f-22249814e87b",
   "metadata": {},
   "source": [
    "# Keyword Arguments\n"
   ]
  },
  {
   "cell_type": "code",
   "execution_count": 6,
   "id": "018c6c4f-98b7-4fc2-ba67-ec9878a2fd8c",
   "metadata": {},
   "outputs": [
    {
     "name": "stdout",
     "output_type": "stream",
     "text": [
      "I have a dog\n",
      "My dog's name is Buddy\n"
     ]
    }
   ],
   "source": [
    "def my_function(animal, name):\n",
    "  print(\"I have a\", animal)\n",
    "  print(\"My\", animal + \"'s name is\", name)\n",
    "\n",
    "my_function(animal = \"dog\", name = \"Buddy\")"
   ]
  },
  {
   "cell_type": "markdown",
   "id": "cf47cbaf-806f-4524-8892-40fab9acdb37",
   "metadata": {},
   "source": [
    "# Positioned Arguments\n"
   ]
  },
  {
   "cell_type": "code",
   "execution_count": 7,
   "id": "a247c9b5-6d27-45c7-97c1-94ed85b92676",
   "metadata": {},
   "outputs": [
    {
     "name": "stdout",
     "output_type": "stream",
     "text": [
      "I have a dog\n",
      "My dog's name is Buddy\n"
     ]
    }
   ],
   "source": [
    "def my_function(animal, name):\n",
    "  print(\"I have a\", animal)\n",
    "  print(\"My\", animal + \"'s name is\", name)\n",
    "\n",
    "my_function(\"dog\", \"Buddy\")"
   ]
  },
  {
   "cell_type": "markdown",
   "id": "e2a8094e-0202-4dc5-bfdf-d7126cefad87",
   "metadata": {},
   "source": [
    "# *args and **kwargs\n",
    "# *args and **kwargs allow functions to accept a unknown number of arguments.\n",
    "\n",
    "By default, a function must be called with the correct number of arguments.\n",
    "\n",
    "However, sometimes you may not know how many arguments that will be passed into your function.\n",
    "\n",
    "*args and **kwargs allow functions to accept a unknown number of arguments.\n",
    "\n"
   ]
  },
  {
   "cell_type": "code",
   "execution_count": null,
   "id": "18383a7f-85d2-434c-be6d-61bc533b5d76",
   "metadata": {},
   "outputs": [],
   "source": []
  }
 ],
 "metadata": {
  "kernelspec": {
   "display_name": "Python [conda env:base] *",
   "language": "python",
   "name": "conda-base-py"
  },
  "language_info": {
   "codemirror_mode": {
    "name": "ipython",
    "version": 3
   },
   "file_extension": ".py",
   "mimetype": "text/x-python",
   "name": "python",
   "nbconvert_exporter": "python",
   "pygments_lexer": "ipython3",
   "version": "3.13.5"
  }
 },
 "nbformat": 4,
 "nbformat_minor": 5
}
