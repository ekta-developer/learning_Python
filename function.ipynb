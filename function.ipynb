{
 "cells": [
  {
   "cell_type": "markdown",
   "id": "ad1a0825-2a79-4047-9d70-1c0ce8ed9aea",
   "metadata": {},
   "source": [
    "# Python Function\n"
   ]
  },
  {
   "cell_type": "markdown",
   "id": "05db27bd-15e9-41ef-a43a-f43723215336",
   "metadata": {},
   "source": [
    "# Creating a Function\n"
   ]
  },
  {
   "cell_type": "code",
   "execution_count": 3,
   "id": "baefeed8-dcf0-4fda-9ea2-91810d4afde3",
   "metadata": {},
   "outputs": [
    {
     "name": "stdout",
     "output_type": "stream",
     "text": [
      "Learning Pyhton! :)\n"
     ]
    }
   ],
   "source": [
    "def greet():\n",
    "  print(\"Learning Pyhton! :)\")\n",
    "\n",
    "greet()"
   ]
  },
  {
   "cell_type": "markdown",
   "id": "032f7223-ab7d-4555-813a-ca068d0be5b3",
   "metadata": {},
   "source": [
    "# Return Values\n"
   ]
  },
  {
   "cell_type": "code",
   "execution_count": 4,
   "id": "2f04465c-60db-4c69-ae12-bf1767f00db4",
   "metadata": {},
   "outputs": [
    {
     "data": {
      "text/plain": [
       "27"
      ]
     },
     "execution_count": 4,
     "metadata": {},
     "output_type": "execute_result"
    }
   ],
   "source": [
    "def calculation():\n",
    "  return 3*9\n",
    "\n",
    "calculation()"
   ]
  },
  {
   "cell_type": "markdown",
   "id": "499d9b3f-379c-46de-9bf2-9a2002f8f97f",
   "metadata": {},
   "source": [
    "# Python Function Arguments\n"
   ]
  },
  {
   "cell_type": "markdown",
   "id": "11a7e0b2-ca37-4de6-8ac5-7209d439c503",
   "metadata": {},
   "source": [
    "# Default paramenter functions\n"
   ]
  },
  {
   "cell_type": "code",
   "execution_count": 5,
   "id": "c157855e-e971-479e-85bf-19551e4dcd8d",
   "metadata": {},
   "outputs": [
    {
     "name": "stdout",
     "output_type": "stream",
     "text": [
      "Hello Emil\n",
      "Hello Tobias\n",
      "Hello friend\n",
      "Hello Linus\n"
     ]
    }
   ],
   "source": [
    "def my_function(name = \"friend\"):\n",
    "  print(\"Hello\", name)\n",
    "\n",
    "my_function(\"Emil\")\n",
    "my_function(\"Tobias\")\n",
    "my_function()\n",
    "my_function(\"Linus\")"
   ]
  },
  {
   "cell_type": "markdown",
   "id": "3470868c-d79e-4d8b-9f1f-22249814e87b",
   "metadata": {},
   "source": [
    "# Keyword Arguments\n"
   ]
  },
  {
   "cell_type": "code",
   "execution_count": 6,
   "id": "018c6c4f-98b7-4fc2-ba67-ec9878a2fd8c",
   "metadata": {},
   "outputs": [
    {
     "name": "stdout",
     "output_type": "stream",
     "text": [
      "I have a dog\n",
      "My dog's name is Buddy\n"
     ]
    }
   ],
   "source": [
    "def my_function(animal, name):\n",
    "  print(\"I have a\", animal)\n",
    "  print(\"My\", animal + \"'s name is\", name)\n",
    "\n",
    "my_function(animal = \"dog\", name = \"Buddy\")"
   ]
  },
  {
   "cell_type": "markdown",
   "id": "cf47cbaf-806f-4524-8892-40fab9acdb37",
   "metadata": {},
   "source": [
    "# Positioned Arguments\n"
   ]
  },
  {
   "cell_type": "code",
   "execution_count": 7,
   "id": "a247c9b5-6d27-45c7-97c1-94ed85b92676",
   "metadata": {},
   "outputs": [
    {
     "name": "stdout",
     "output_type": "stream",
     "text": [
      "I have a dog\n",
      "My dog's name is Buddy\n"
     ]
    }
   ],
   "source": [
    "def my_function(animal, name):\n",
    "  print(\"I have a\", animal)\n",
    "  print(\"My\", animal + \"'s name is\", name)\n",
    "\n",
    "my_function(\"dog\", \"Buddy\")"
   ]
  },
  {
   "cell_type": "markdown",
   "id": "e2a8094e-0202-4dc5-bfdf-d7126cefad87",
   "metadata": {},
   "source": [
    "# *args and **kwargs\n",
    "# *args and **kwargs allow functions to accept a unknown number of arguments.\n",
    "\n",
    "By default, a function must be called with the correct number of arguments.\n",
    "\n",
    "However, sometimes you may not know how many arguments that will be passed into your function.\n",
    "\n",
    "*args and **kwargs allow functions to accept a unknown number of arguments.\n",
    "\n"
   ]
  },
  {
   "cell_type": "markdown",
   "id": "0e3f003e-82ef-48cb-b5f5-95a24668cf52",
   "metadata": {},
   "source": [
    "# Python Scope\n"
   ]
  },
  {
   "cell_type": "code",
   "execution_count": 1,
   "id": "18383a7f-85d2-434c-be6d-61bc533b5d76",
   "metadata": {},
   "outputs": [
    {
     "name": "stdout",
     "output_type": "stream",
     "text": [
      "300\n"
     ]
    }
   ],
   "source": [
    "# local Scope\n",
    "def myfunc():\n",
    "  x = 300\n",
    "  print(x)\n",
    "\n",
    "myfunc()"
   ]
  },
  {
   "cell_type": "code",
   "execution_count": 2,
   "id": "08452915-d567-44b1-814a-cc7bf54f27b8",
   "metadata": {},
   "outputs": [
    {
     "name": "stdout",
     "output_type": "stream",
     "text": [
      "300\n"
     ]
    }
   ],
   "source": [
    "# function inside function\n",
    "def myfunc():\n",
    "  x = 300\n",
    "  def myinnerfunc():\n",
    "    print(x)\n",
    "  myinnerfunc()\n",
    "\n",
    "myfunc()"
   ]
  },
  {
   "cell_type": "code",
   "execution_count": 3,
   "id": "95ddf767-6fc9-4c30-a065-c8e1ef31ed9e",
   "metadata": {},
   "outputs": [
    {
     "name": "stdout",
     "output_type": "stream",
     "text": [
      "300\n",
      "300\n"
     ]
    }
   ],
   "source": [
    "#Global Scope\n",
    "x = 300\n",
    "\n",
    "def myfunc():\n",
    "  print(x)\n",
    "\n",
    "myfunc()\n",
    "\n",
    "print(x)"
   ]
  },
  {
   "cell_type": "code",
   "execution_count": 4,
   "id": "7d21e923-2a4f-4558-a4ab-ae142c3cf775",
   "metadata": {},
   "outputs": [
    {
     "name": "stdout",
     "output_type": "stream",
     "text": [
      "200\n",
      "300\n"
     ]
    }
   ],
   "source": [
    "#naming Variable\n",
    "x = 300\n",
    "\n",
    "def myfunc():\n",
    "  x = 200\n",
    "  print(x)\n",
    "\n",
    "myfunc()\n",
    "\n",
    "print(x)"
   ]
  },
  {
   "cell_type": "code",
   "execution_count": 5,
   "id": "45c5fc15-6f5e-42bf-aa70-7d713f83753a",
   "metadata": {},
   "outputs": [
    {
     "name": "stdout",
     "output_type": "stream",
     "text": [
      "300\n"
     ]
    }
   ],
   "source": [
    "#global keyword \n",
    "def myfunc():\n",
    "  global x\n",
    "  x = 300\n",
    "\n",
    "myfunc()\n",
    "\n",
    "print(x)"
   ]
  },
  {
   "cell_type": "code",
   "execution_count": 6,
   "id": "d338548d-af5e-4042-83ad-6a0581995083",
   "metadata": {},
   "outputs": [
    {
     "name": "stdout",
     "output_type": "stream",
     "text": [
      "hello\n"
     ]
    }
   ],
   "source": [
    "#non local keyword\n",
    "def myfunc1():\n",
    "  x = \"Jane\"\n",
    "  def myfunc2():\n",
    "    nonlocal x\n",
    "    x = \"hello\"\n",
    "  myfunc2()\n",
    "  return x\n",
    "\n",
    "print(myfunc1())"
   ]
  },
  {
   "cell_type": "code",
   "execution_count": 8,
   "id": "171a70ae-486d-4f68-970a-feff6d967723",
   "metadata": {},
   "outputs": [
    {
     "name": "stdout",
     "output_type": "stream",
     "text": [
      "Inner: local\n",
      "Outer: enclosing\n",
      "Global: global\n"
     ]
    }
   ],
   "source": [
    "#The LEGB Rule\n",
    "#Python follows the LEGB rule when looking up variable names, and searches for them in this order:\n",
    "\n",
    "#1. Local - Inside the current function\n",
    "#2. Enclosing - Inside enclosing functions (from inner to outer)\n",
    "#3. Global - At the top level of the module\n",
    "#4. Built-in - In Python's built-in namespace\n",
    "#Example\n",
    "\n",
    "x = \"global\"\n",
    "\n",
    "def outer():\n",
    "  x = \"enclosing\"\n",
    "  def inner():\n",
    "    x = \"local\"\n",
    "    print(\"Inner:\", x)\n",
    "  inner()\n",
    "  print(\"Outer:\", x)\n",
    "\n",
    "outer()\n",
    "print(\"Global:\", x)"
   ]
  },
  {
   "cell_type": "markdown",
   "id": "f8fe367f-accd-4460-ae06-6d81b4cd3ea0",
   "metadata": {},
   "source": [
    "# Python Decorators\n",
    "\n"
   ]
  },
  {
   "cell_type": "code",
   "execution_count": 12,
   "id": "0230a918-cb70-41b9-86df-c600bf6a1a3c",
   "metadata": {},
   "outputs": [
    {
     "name": "stdout",
     "output_type": "stream",
     "text": [
      "HII\n"
     ]
    }
   ],
   "source": [
    "# Decorators let you add extra behavior to a function, without changing the function's code.\n",
    "# A decorator is a function that takes another function as input and returns a new function.\n",
    "\n",
    "# BASIC DECORATORS\n",
    "def myDecorator(func):\n",
    "  def inner():\n",
    "    return func().upper()\n",
    "  return inner\n",
    "#the name of a decorator is same as the function where you write the decoration code \n",
    "@myDecorator\n",
    "def mainFunction():\n",
    "  return \"hii\"\n",
    "\n",
    "print(mainFunction())"
   ]
  },
  {
   "cell_type": "code",
   "execution_count": 13,
   "id": "58446690-9a50-4c3c-b4c5-83a42af020ec",
   "metadata": {},
   "outputs": [
    {
     "name": "stdout",
     "output_type": "stream",
     "text": [
      "HELLO SALLY\n",
      "I AM SPEED!\n"
     ]
    }
   ],
   "source": [
    "# MULTIPLE DECORATOR CALLS\n",
    "def changecase(func):\n",
    "  def myinner():\n",
    "    return func().upper()\n",
    "  return myinner\n",
    "\n",
    "@changecase\n",
    "def myfunction():\n",
    "  return \"Hello Sally\"\n",
    "\n",
    "@changecase\n",
    "def otherfunction():\n",
    "  return \"I am speed!\"\n",
    "\n",
    "print(myfunction())\n",
    "print(otherfunction())"
   ]
  },
  {
   "cell_type": "code",
   "execution_count": 14,
   "id": "c4f8e0ae-bffd-45b9-aded-f59a11fbd509",
   "metadata": {},
   "outputs": [
    {
     "name": "stdout",
     "output_type": "stream",
     "text": [
      "HELLO JOHN\n"
     ]
    }
   ],
   "source": [
    "# ARGUMENTS IN DECORATION FUNCTIONS\n",
    "def changecase(func):\n",
    "  def myinner(x):\n",
    "    return func(x).upper()\n",
    "  return myinner\n",
    "\n",
    "@changecase\n",
    "def myfunction(nam):\n",
    "  return \"Hello \" + nam\n",
    "\n",
    "print(myfunction(\"John\"))"
   ]
  },
  {
   "cell_type": "code",
   "execution_count": 16,
   "id": "20894ab5-5af4-44a2-9cfb-bb2725f02b2c",
   "metadata": {},
   "outputs": [
    {
     "name": "stdout",
     "output_type": "stream",
     "text": [
      "HELLO EKTA\n"
     ]
    }
   ],
   "source": [
    "# IF YOU ADD ARGS AND KWARS THEN \n",
    "def changecase(func):\n",
    "  def myinner(*args, **kwargs):\n",
    "    return func(*args, **kwargs).upper()\n",
    "  return myinner\n",
    "\n",
    "@changecase\n",
    "def myfunction(nam):\n",
    "  return \"Hello \" + nam\n",
    "\n",
    "print(myfunction(\"EKTA\"))"
   ]
  },
  {
   "cell_type": "code",
   "execution_count": 18,
   "id": "6c40729d-64ae-4ce0-8f38-590382a70601",
   "metadata": {},
   "outputs": [
    {
     "name": "stdout",
     "output_type": "stream",
     "text": [
      "hello linus\n"
     ]
    }
   ],
   "source": [
    "# DECORATOR WITH ARGUMENTS\n",
    "def changecase(n):\n",
    "  def changecase(func):\n",
    "    def myinner():\n",
    "      if n == 1:\n",
    "        a = func().lower()\n",
    "      else:\n",
    "        a = func().upper()\n",
    "      return a\n",
    "    return myinner\n",
    "  return changecase\n",
    "\n",
    "@changecase(1)\n",
    "def myfunction():\n",
    "  return \"Hello Linus\"\n",
    "\n",
    "print(myfunction())"
   ]
  },
  {
   "cell_type": "code",
   "execution_count": 19,
   "id": "5b603e73-a815-4ec8-bb66-ddd5955c63c8",
   "metadata": {},
   "outputs": [
    {
     "name": "stdout",
     "output_type": "stream",
     "text": [
      "HELLO TOBIAS HAVE A GOOD DAY!\n"
     ]
    }
   ],
   "source": [
    "#MULTIPLE DECORATORS\n",
    "def changecase(func):\n",
    "  def myinner():\n",
    "    return func().upper()\n",
    "  return myinner\n",
    "\n",
    "def addgreeting(func):\n",
    "  def myinner():\n",
    "    return \"Hello \" + func() + \" Have a good day!\"\n",
    "  return myinner\n",
    "\n",
    "@changecase\n",
    "@addgreeting\n",
    "def myfunction():\n",
    "  return \"Tobias\"\n",
    "\n",
    "print(myfunction())"
   ]
  },
  {
   "cell_type": "code",
   "execution_count": 20,
   "id": "794f88e5-3ab0-40a2-9df7-b31c065dc110",
   "metadata": {},
   "outputs": [
    {
     "name": "stdout",
     "output_type": "stream",
     "text": [
      "myfunction\n"
     ]
    }
   ],
   "source": [
    "#Preserving Function Metadata\n",
    "def myfunction():\n",
    "  return \"Have a great day!\"\n",
    "\n",
    "print(myfunction.__name__)"
   ]
  },
  {
   "cell_type": "code",
   "execution_count": 21,
   "id": "81035d75-611a-4dad-a74e-e6f1c6185102",
   "metadata": {},
   "outputs": [
    {
     "name": "stdout",
     "output_type": "stream",
     "text": [
      "myfunction\n"
     ]
    }
   ],
   "source": [
    "#But, when a function is decorated, the metadata of the original function is lost.\n",
    "#To fix this, Python has a built-in function called functools.wraps that can be used to preserve the original function's name and docstring.\n",
    "import functools\n",
    "\n",
    "def changecase(func):\n",
    "  @functools.wraps(func)\n",
    "  def myinner():\n",
    "    return func().upper()\n",
    "  return myinner\n",
    "\n",
    "@changecase\n",
    "def myfunction():\n",
    "  return \"Have a great day!\"\n",
    "\n",
    "print(myfunction.__name__)"
   ]
  },
  {
   "cell_type": "code",
   "execution_count": 23,
   "id": "328a13ff-bbdf-45b5-b1f0-8b0dc93597fb",
   "metadata": {},
   "outputs": [
    {
     "name": "stdout",
     "output_type": "stream",
     "text": [
      "myfunction\n"
     ]
    }
   ],
   "source": [
    "# Python has a built-in function called functools.wraps that can be used to preserve the original function's name and docstring.\n",
    "import functools\n",
    "def changecase(func): \n",
    "  @functools.wraps(func)\n",
    "  def myinner():\n",
    "    return func().upper()\n",
    "  return myinner \n",
    "    \n",
    "@changecase\n",
    "def myfunction():\n",
    "  return\"Have a great day!\"\n",
    "print(myfunction.__name__)"
   ]
  },
  {
   "cell_type": "markdown",
   "id": "cac12815-2863-4309-a050-9cd5859dd645",
   "metadata": {},
   "source": [
    "# Python Lambda\n",
    "\n",
    "\n"
   ]
  },
  {
   "cell_type": "code",
   "execution_count": 24,
   "id": "634731f4-d932-4d95-a735-ea092aac4166",
   "metadata": {},
   "outputs": [
    {
     "name": "stdout",
     "output_type": "stream",
     "text": [
      "15\n"
     ]
    }
   ],
   "source": [
    "#Lambda Functions\n",
    "# lambda arguments : expression\n",
    "x = lambda a : a + 10\n",
    "print(x(5))"
   ]
  },
  {
   "cell_type": "code",
   "execution_count": 25,
   "id": "67e76c79-740f-49aa-b93a-81947593229d",
   "metadata": {},
   "outputs": [
    {
     "name": "stdout",
     "output_type": "stream",
     "text": [
      "30\n"
     ]
    }
   ],
   "source": [
    "#Lambda functions can take any number of arguments:\n",
    "x = lambda a, b : a * b\n",
    "print(x(5, 6))"
   ]
  },
  {
   "cell_type": "code",
   "execution_count": 29,
   "id": "1b98e952-e249-4f0f-b768-ff7234690e83",
   "metadata": {},
   "outputs": [
    {
     "name": "stdout",
     "output_type": "stream",
     "text": [
      "22\n"
     ]
    }
   ],
   "source": [
    "#Why Use Lambda Functions?\n",
    "def myfunc(n):\n",
    "  return lambda a : a * n\n",
    "\n",
    "mydoubler = myfunc(2)\n",
    "\n",
    "print(mydoubler(11))\n"
   ]
  },
  {
   "cell_type": "code",
   "execution_count": null,
   "id": "852fe41a-5176-4cd0-baf1-76b4b195f9a6",
   "metadata": {},
   "outputs": [],
   "source": [
    "#Lambda with Built-in Functions\n",
    "# 1 Lambda with Built-in Functions\n",
    "# 2 Using Lambda with filter()\n",
    "# 3 Using Lambda with sorted()"
   ]
  },
  {
   "cell_type": "markdown",
   "id": "96327b78-43b7-49a4-a92b-710e1649b847",
   "metadata": {},
   "source": [
    "# Python Recursion\n",
    "\n",
    "\n"
   ]
  },
  {
   "cell_type": "code",
   "execution_count": 31,
   "id": "e6f52af9-8511-456e-a42d-e1759ca9a1bc",
   "metadata": {},
   "outputs": [
    {
     "name": "stdout",
     "output_type": "stream",
     "text": [
      "5\n",
      "4\n",
      "3\n",
      "2\n",
      "1\n",
      "Done!\n"
     ]
    }
   ],
   "source": [
    "# simple recursion\n",
    "def countdown(n):\n",
    "    if n <= 0:\n",
    "        print(\"Done!\")\n",
    "    else:\n",
    "        print(n) \n",
    "        countdown(n - 1)\n",
    "    \n",
    "countdown(5)"
   ]
  },
  {
   "cell_type": "code",
   "execution_count": 32,
   "id": "89cf8641-8505-407a-a70b-f2aebd7dc342",
   "metadata": {},
   "outputs": [],
   "source": [
    "#Base Case and Recursive Case\n",
    "#Every recursive function must have two parts:\n",
    "\n",
    "#A base case - A condition that stops the recursion\n",
    "#A recursive case - The function calling itself with a modified argument"
   ]
  },
  {
   "cell_type": "code",
   "execution_count": 33,
   "id": "1e2e760b-4ea2-4507-852e-bab9200a2596",
   "metadata": {},
   "outputs": [
    {
     "name": "stdout",
     "output_type": "stream",
     "text": [
      "13\n"
     ]
    }
   ],
   "source": [
    "#Fibonacci Sequence\n",
    "def fibonacci(n):\n",
    "  if n <= 1:\n",
    "    return n\n",
    "  else:\n",
    "    return fibonacci(n - 1) + fibonacci(n - 2)\n",
    "\n",
    "print(fibonacci(7))"
   ]
  },
  {
   "cell_type": "code",
   "execution_count": 34,
   "id": "12dfcbdf-696f-4a25-b33f-959a1188e8d8",
   "metadata": {},
   "outputs": [
    {
     "name": "stdout",
     "output_type": "stream",
     "text": [
      "2000\n"
     ]
    }
   ],
   "source": [
    "#f you need deeper recursion, you can increase the limit, but be careful as this can cause crashes:\n",
    "# max limit is 1000 times\n",
    "import sys\n",
    "sys.setrecursionlimit(2000)\n",
    "print(sys.getrecursionlimit())"
   ]
  },
  {
   "cell_type": "markdown",
   "id": "54c39273-0a01-4fa5-add2-dc83fb9e09b2",
   "metadata": {},
   "source": [
    "# Python Generators\n",
    "\n"
   ]
  },
  {
   "cell_type": "code",
   "execution_count": 36,
   "id": "14b56aba-4fa2-44b5-ab6b-c5bb3b3c0571",
   "metadata": {},
   "outputs": [
    {
     "name": "stdout",
     "output_type": "stream",
     "text": [
      "1\n",
      "2\n",
      "3\n"
     ]
    }
   ],
   "source": [
    "# Generators are functions that can pause and resume their execution.Generators are functions that can pause and resume their execution.\n",
    "# The code inside the function is not executed yet, it is only compiled. The function only executes when you iterate over the generator.\n",
    "def my_generator():\n",
    "  yield 1\n",
    "  yield 2\n",
    "  yield 3\n",
    "\n",
    "for value in my_generator():\n",
    "  print(value)\n",
    "\n",
    "#Generators allow you to iterate over data without storing the entire dataset in memory."
   ]
  },
  {
   "cell_type": "code",
   "execution_count": 37,
   "id": "6958d07d-72ab-4f6e-a5eb-66197cc7a7b2",
   "metadata": {},
   "outputs": [
    {
     "name": "stdout",
     "output_type": "stream",
     "text": [
      "1\n",
      "2\n",
      "3\n",
      "4\n",
      "5\n"
     ]
    }
   ],
   "source": [
    "# The yield Keyword\n",
    "def count_up_to(n):\n",
    "  count = 1\n",
    "  while count <= n:\n",
    "    yield count\n",
    "    count += 1\n",
    "\n",
    "for num in count_up_to(5):\n",
    "  print(num)"
   ]
  },
  {
   "cell_type": "code",
   "execution_count": 38,
   "id": "b5faccf5-2355-4f3c-8f89-f8c487125020",
   "metadata": {},
   "outputs": [],
   "source": [
    "# Generators Saves Memory\n",
    "# This doesn't create a million numbers in memory gen = large_sequence(1000000)print(next(gen))print(next(gen))print(next(gen))\n",
    "\n"
   ]
  },
  {
   "cell_type": "code",
   "execution_count": 41,
   "id": "a45e5561-70cb-4af1-a7de-8abbaf3d6a82",
   "metadata": {},
   "outputs": [
    {
     "name": "stdout",
     "output_type": "stream",
     "text": [
      "0\n",
      "1\n",
      "2\n"
     ]
    }
   ],
   "source": [
    "# This doesn't create a million numbers in memory\n",
    "def large_sequence(n):\n",
    "  for i in range(n):\n",
    "    yield i\n",
    "    \n",
    "gen = large_sequence(1000000)\n",
    "print(next(gen))\n",
    "print(next(gen))\n",
    "print(next(gen))\n"
   ]
  },
  {
   "cell_type": "code",
   "execution_count": 42,
   "id": "dbd86063-5657-4545-bd67-e332019219f3",
   "metadata": {},
   "outputs": [
    {
     "name": "stdout",
     "output_type": "stream",
     "text": [
      "0\n",
      "1\n",
      "1\n",
      "2\n",
      "3\n",
      "5\n",
      "8\n",
      "13\n",
      "21\n",
      "34\n",
      "55\n",
      "89\n",
      "144\n",
      "233\n",
      "377\n",
      "610\n",
      "987\n",
      "1597\n",
      "2584\n",
      "4181\n",
      "6765\n",
      "10946\n",
      "17711\n",
      "28657\n",
      "46368\n",
      "75025\n",
      "121393\n",
      "196418\n",
      "317811\n",
      "514229\n",
      "832040\n",
      "1346269\n",
      "2178309\n",
      "3524578\n",
      "5702887\n",
      "9227465\n",
      "14930352\n",
      "24157817\n",
      "39088169\n",
      "63245986\n",
      "102334155\n",
      "165580141\n",
      "267914296\n",
      "433494437\n",
      "701408733\n",
      "1134903170\n",
      "1836311903\n",
      "2971215073\n",
      "4807526976\n",
      "7778742049\n",
      "12586269025\n",
      "20365011074\n",
      "32951280099\n",
      "53316291173\n",
      "86267571272\n",
      "139583862445\n",
      "225851433717\n",
      "365435296162\n",
      "591286729879\n",
      "956722026041\n",
      "1548008755920\n",
      "2504730781961\n",
      "4052739537881\n",
      "6557470319842\n",
      "10610209857723\n",
      "17167680177565\n",
      "27777890035288\n",
      "44945570212853\n",
      "72723460248141\n",
      "117669030460994\n",
      "190392490709135\n",
      "308061521170129\n",
      "498454011879264\n",
      "806515533049393\n",
      "1304969544928657\n",
      "2111485077978050\n",
      "3416454622906707\n",
      "5527939700884757\n",
      "8944394323791464\n",
      "14472334024676221\n",
      "23416728348467685\n",
      "37889062373143906\n",
      "61305790721611591\n",
      "99194853094755497\n",
      "160500643816367088\n",
      "259695496911122585\n",
      "420196140727489673\n",
      "679891637638612258\n",
      "1100087778366101931\n",
      "1779979416004714189\n",
      "2880067194370816120\n",
      "4660046610375530309\n",
      "7540113804746346429\n",
      "12200160415121876738\n",
      "19740274219868223167\n",
      "31940434634990099905\n",
      "51680708854858323072\n",
      "83621143489848422977\n",
      "135301852344706746049\n",
      "218922995834555169026\n"
     ]
    }
   ],
   "source": [
    "#Fibonacci Sequence Generator\n",
    "def fibonacci():\n",
    "  a, b = 0, 1\n",
    "  while True:\n",
    "    yield a\n",
    "    a, b = b, a + b\n",
    "\n",
    "# Get first 100 Fibonacci numbers\n",
    "gen = fibonacci()\n",
    "for _ in range(100):\n",
    "  print(next(gen))"
   ]
  },
  {
   "cell_type": "markdown",
   "id": "ede602dd-b611-4eae-bca2-e15fd872c449",
   "metadata": {},
   "source": [
    "# Python Range\n",
    "\n"
   ]
  },
  {
   "cell_type": "code",
   "execution_count": null,
   "id": "6bd1cb9d-a345-4151-b966-985db8dfd48e",
   "metadata": {},
   "outputs": [],
   "source": [
    "#The built-in range() function returns an immutable sequence of numbers, commonly used for looping a specific number of times.\n",
    "#This set of numbers has its own data type called range.\n",
    "\n",
    "#CREATING RANGE\n",
    "#Creating ranges\n",
    "#The range() function can be called with 1, 2, or 3 arguments, using this syntax:\n",
    "#range(start, stop, step)\n"
   ]
  },
  {
   "cell_type": "markdown",
   "id": "d330961c-cacd-48dc-bcc3-fe5315e90abf",
   "metadata": {},
   "source": [
    "# Call Range with one argument\n",
    "\n"
   ]
  },
  {
   "cell_type": "code",
   "execution_count": 45,
   "id": "c75b6634-76f0-4fed-a3a4-1dcb34303eb6",
   "metadata": {},
   "outputs": [
    {
     "name": "stdout",
     "output_type": "stream",
     "text": [
      "range(0, 10)\n",
      "[0, 1, 2, 3, 4, 5, 6, 7, 8, 9]\n"
     ]
    }
   ],
   "source": [
    "x = range(10)\n",
    "print(x)\n",
    "print(list(x))"
   ]
  },
  {
   "cell_type": "markdown",
   "id": "9b963ae3-5945-4753-a98b-f88d278608e2",
   "metadata": {},
   "source": [
    "# Call Range with Two argument\n",
    "\n"
   ]
  },
  {
   "cell_type": "code",
   "execution_count": 46,
   "id": "a6e24ca7-e191-4884-af0d-5ddec32c2f60",
   "metadata": {},
   "outputs": [
    {
     "name": "stdout",
     "output_type": "stream",
     "text": [
      "range(3, 10)\n",
      "[3, 4, 5, 6, 7, 8, 9]\n"
     ]
    }
   ],
   "source": [
    "x = range(3, 10)\n",
    "print(x)\n",
    "print(list(x))"
   ]
  },
  {
   "cell_type": "markdown",
   "id": "f011029b-5796-415e-81f0-11a496d89dda",
   "metadata": {},
   "source": [
    "# Call Range with Three argument\n",
    "\n"
   ]
  },
  {
   "cell_type": "code",
   "execution_count": 47,
   "id": "ca4a1664-f300-4527-926e-77b43014d38b",
   "metadata": {},
   "outputs": [
    {
     "name": "stdout",
     "output_type": "stream",
     "text": [
      "range(3, 10, 2)\n",
      "[3, 5, 7, 9]\n"
     ]
    }
   ],
   "source": [
    "x = range(3, 10, 2)\n",
    "print(x)\n",
    "print(list(x))"
   ]
  },
  {
   "cell_type": "code",
   "execution_count": 48,
   "id": "c98c4ff2-8c7f-4654-90db-039437d561f0",
   "metadata": {},
   "outputs": [
    {
     "name": "stdout",
     "output_type": "stream",
     "text": [
      "2\n",
      "range(0, 3)\n"
     ]
    }
   ],
   "source": [
    "r = range(10)\n",
    "print(r[2])\n",
    "print(r[:3])"
   ]
  },
  {
   "cell_type": "code",
   "execution_count": 49,
   "id": "a6e494b6-2182-4c19-b5f8-a481c6fdb303",
   "metadata": {},
   "outputs": [
    {
     "name": "stdout",
     "output_type": "stream",
     "text": [
      "True\n",
      "False\n"
     ]
    }
   ],
   "source": [
    "# MEMBERSHIP TEASTING\n",
    "r = range(0, 10, 2)\n",
    "print(6 in r)\n",
    "print(7 in r)"
   ]
  },
  {
   "cell_type": "code",
   "execution_count": 50,
   "id": "6ac00b19-25ad-4e31-94c8-f4eee778d08e",
   "metadata": {},
   "outputs": [
    {
     "name": "stdout",
     "output_type": "stream",
     "text": [
      "5\n"
     ]
    }
   ],
   "source": [
    "#LENGTH RO GET IT IN RNGE\n",
    "r = range(0, 10, 2)\n",
    "print(len(r))"
   ]
  },
  {
   "cell_type": "code",
   "execution_count": null,
   "id": "963e1c1c-5af1-4bfd-ae5c-459ed6a8d33f",
   "metadata": {},
   "outputs": [],
   "source": []
  }
 ],
 "metadata": {
  "kernelspec": {
   "display_name": "Python [conda env:base] *",
   "language": "python",
   "name": "conda-base-py"
  },
  "language_info": {
   "codemirror_mode": {
    "name": "ipython",
    "version": 3
   },
   "file_extension": ".py",
   "mimetype": "text/x-python",
   "name": "python",
   "nbconvert_exporter": "python",
   "pygments_lexer": "ipython3",
   "version": "3.13.5"
  }
 },
 "nbformat": 4,
 "nbformat_minor": 5
}
