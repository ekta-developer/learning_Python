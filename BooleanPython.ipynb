{
 "cells": [
  {
   "cell_type": "code",
   "execution_count": 2,
   "id": "47c87fa2-7b52-431a-b1d5-ccdee7327620",
   "metadata": {},
   "outputs": [
    {
     "name": "stdout",
     "output_type": "stream",
     "text": [
      "A is greater than B\n"
     ]
    }
   ],
   "source": [
    "a=9\n",
    "b=4\n",
    "if(a>b):\n",
    "   print(\"A is greater than B\")\n",
    "else:\n",
    "   print(\"B is greater than A\")"
   ]
  },
  {
   "cell_type": "code",
   "execution_count": 3,
   "id": "db7b38f7-cdeb-488a-9c56-29e3c2d7ca8f",
   "metadata": {},
   "outputs": [
    {
     "data": {
      "text/plain": [
       "False"
      ]
     },
     "execution_count": 3,
     "metadata": {},
     "output_type": "execute_result"
    }
   ],
   "source": [
    "# some return false when no value is there\n",
    "bool({})"
   ]
  },
  {
   "cell_type": "code",
   "execution_count": 6,
   "id": "36f9e166-d380-48d9-98f7-c9aad8537286",
   "metadata": {},
   "outputs": [
    {
     "name": "stdout",
     "output_type": "stream",
     "text": [
      "YES!!\n"
     ]
    }
   ],
   "source": [
    "# function can also be true or false\n",
    "def myFunction():\n",
    "  return false\n",
    "\n",
    "if(myFunction):\n",
    "    print(\"YES!!\")\n",
    "else:\n",
    "    print(\"No :)\")"
   ]
  },
  {
   "cell_type": "code",
   "execution_count": null,
   "id": "6d977e6a-cfce-4b27-b108-f3e3af360090",
   "metadata": {},
   "outputs": [],
   "source": []
  }
 ],
 "metadata": {
  "kernelspec": {
   "display_name": "Python [conda env:base] *",
   "language": "python",
   "name": "conda-base-py"
  },
  "language_info": {
   "codemirror_mode": {
    "name": "ipython",
    "version": 3
   },
   "file_extension": ".py",
   "mimetype": "text/x-python",
   "name": "python",
   "nbconvert_exporter": "python",
   "pygments_lexer": "ipython3",
   "version": "3.13.5"
  }
 },
 "nbformat": 4,
 "nbformat_minor": 5
}
