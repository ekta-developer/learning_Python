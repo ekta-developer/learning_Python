{
 "cells": [
  {
   "cell_type": "markdown",
   "id": "58d267dd-f58b-4d35-b936-13159fc2ee87",
   "metadata": {},
   "source": [
    "# Creating tuple"
   ]
  },
  {
   "cell_type": "code",
   "execution_count": 3,
   "id": "1da6b54e-8b0d-42f5-88b2-5cf559ba153f",
   "metadata": {},
   "outputs": [
    {
     "name": "stdout",
     "output_type": "stream",
     "text": [
      "('apple', 'mango', 'banana')\n"
     ]
    }
   ],
   "source": [
    "thisTuple=(\"apple\",\"mango\",\"banana\")\n",
    "print(thisTuple)"
   ]
  },
  {
   "cell_type": "markdown",
   "id": "49008ed5-6e89-4810-972c-6d403c9efb71",
   "metadata": {},
   "source": [
    "# Length of a tuple"
   ]
  },
  {
   "cell_type": "code",
   "execution_count": 4,
   "id": "9ff5fbdc-0654-45ae-80ac-1ac1f5f93e55",
   "metadata": {},
   "outputs": [
    {
     "name": "stdout",
     "output_type": "stream",
     "text": [
      "3\n"
     ]
    }
   ],
   "source": [
    "thisTuple=(\"apple\",\"mango\",\"banana\")\n",
    "print(len(thisTuple))"
   ]
  },
  {
   "cell_type": "markdown",
   "id": "8e4aceb4-223b-4a7e-921a-1585011eaf66",
   "metadata": {},
   "source": [
    "# Adding only one item in tuple"
   ]
  },
  {
   "cell_type": "code",
   "execution_count": 5,
   "id": "e4027b3e-19f5-4bde-823d-f8bc062c160b",
   "metadata": {},
   "outputs": [
    {
     "name": "stdout",
     "output_type": "stream",
     "text": [
      "('apple',)\n"
     ]
    }
   ],
   "source": [
    "thisTuple=(\"apple\",)\n",
    "print(thisTuple)"
   ]
  },
  {
   "cell_type": "code",
   "execution_count": 7,
   "id": "a3fa6f12-6ecb-49fc-ac54-6f3c51699acb",
   "metadata": {},
   "outputs": [
    {
     "name": "stdout",
     "output_type": "stream",
     "text": [
      "('Tiger', 67.9, True)\n"
     ]
    }
   ],
   "source": [
    "thisTuple=(\"Tiger\", 67.9,True)\n",
    "print(thisTuple)"
   ]
  },
  {
   "cell_type": "markdown",
   "id": "faa7f2c2-423b-44f7-90a3-d7356932d507",
   "metadata": {},
   "source": [
    "# Access in Tuple"
   ]
  },
  {
   "cell_type": "code",
   "execution_count": 9,
   "id": "3d7d565f-5f14-401c-aa48-d35f1ff61c28",
   "metadata": {},
   "outputs": [
    {
     "name": "stdout",
     "output_type": "stream",
     "text": [
      "cherry\n"
     ]
    }
   ],
   "source": [
    "thisTuple=(\"apple\",\"cherry\",\"mango\")\n",
    "print(thisTuple[1])"
   ]
  },
  {
   "cell_type": "code",
   "execution_count": 10,
   "id": "b32430cf-2f82-40d5-b733-c27b6ff90fa5",
   "metadata": {},
   "outputs": [
    {
     "name": "stdout",
     "output_type": "stream",
     "text": [
      "cherry\n"
     ]
    }
   ],
   "source": [
    "thistuple = (\"apple\", \"banana\", \"cherry\")\n",
    "print(thistuple[-1])"
   ]
  },
  {
   "cell_type": "code",
   "execution_count": 12,
   "id": "11d0fb9c-668e-47c4-9ab4-d682bcdbb8ff",
   "metadata": {},
   "outputs": [
    {
     "name": "stdout",
     "output_type": "stream",
     "text": [
      "('orange', 'kiwi')\n"
     ]
    }
   ],
   "source": [
    "thistuple = (\"apple\", \"banana\", \"cherry\",\"orange\", \"kiwi\", \"melon\", \"mango\")\n",
    "print(thistuple[3:5])\n"
   ]
  },
  {
   "cell_type": "code",
   "execution_count": 13,
   "id": "0fafd4e7-ce77-4816-b92c-1521b11b21ba",
   "metadata": {},
   "outputs": [
    {
     "name": "stdout",
     "output_type": "stream",
     "text": [
      "('apple', 'banana', 'cherry', 'orange')\n"
     ]
    }
   ],
   "source": [
    "thistuple = (\"apple\", \"banana\", \"cherry\", \"orange\", \"kiwi\", \"melon\", \"mango\")\n",
    "print(thistuple[:4])"
   ]
  },
  {
   "cell_type": "code",
   "execution_count": 14,
   "id": "cb8f1377-5d83-4714-86ba-c67f5f9e55a8",
   "metadata": {},
   "outputs": [
    {
     "name": "stdout",
     "output_type": "stream",
     "text": [
      "('orange', 'kiwi', 'melon', 'mango')\n"
     ]
    }
   ],
   "source": [
    "thistuple = (\"apple\", \"banana\", \"cherry\", \"orange\", \"kiwi\", \"melon\", \"mango\")\n",
    "print(thistuple[3:])"
   ]
  },
  {
   "cell_type": "code",
   "execution_count": 16,
   "id": "3b346856-c524-4952-94fe-ef47ed66be0d",
   "metadata": {},
   "outputs": [
    {
     "name": "stdout",
     "output_type": "stream",
     "text": [
      "Yes! this value is present\n"
     ]
    }
   ],
   "source": [
    "thistuple = (\"apple\", \"banana\", \"cherry\", \"orange\", \"kiwi\", \"melon\", \"mango\")\n",
    "if \"apple\" in thistuple:\n",
    "    print(\"Yes! this value is present\")"
   ]
  },
  {
   "cell_type": "markdown",
   "id": "8b81e003-8b42-4430-8366-3dd2a0f62ef2",
   "metadata": {},
   "source": [
    "# Update Tuple"
   ]
  },
  {
   "cell_type": "markdown",
   "id": "942ea83f-5a9c-476d-b932-a1090f675707",
   "metadata": {},
   "source": [
    "# Change tuple values by converting first into list then add value to tuple"
   ]
  },
  {
   "cell_type": "code",
   "execution_count": 18,
   "id": "066db82a-165d-46ab-aab0-fddd9cac05d4",
   "metadata": {},
   "outputs": [
    {
     "name": "stdout",
     "output_type": "stream",
     "text": [
      "('Orange', 'banana', 'kiwi', 'Muskmelon')\n"
     ]
    }
   ],
   "source": [
    "x=(\"apple\",\"banana\",\"kiwi\",\"Muskmelon\")\n",
    "y=list(x)\n",
    "y[0]=\"Orange\"\n",
    "z=tuple(y)\n",
    "print(z)"
   ]
  },
  {
   "cell_type": "markdown",
   "id": "90ea3433-d334-42a7-ae9f-dcd3d2ceea86",
   "metadata": {},
   "source": [
    "# Adding tuple to a tuple"
   ]
  },
  {
   "cell_type": "code",
   "execution_count": 22,
   "id": "accc3aa2-1d91-4e58-9cbd-fbc4f0ea5b88",
   "metadata": {},
   "outputs": [
    {
     "name": "stdout",
     "output_type": "stream",
     "text": [
      "('apple', 'banana', 'kiwi', 'Muskmelon', 'Orange')\n"
     ]
    }
   ],
   "source": [
    "x=(\"apple\",\"banana\",\"kiwi\",\"Muskmelon\")\n",
    "y=(\"Orange\",)\n",
    "x=x+y\n",
    "print(x)"
   ]
  },
  {
   "cell_type": "markdown",
   "id": "7b13765b-cb30-4a46-bcaf-ec6fc5f0b4da",
   "metadata": {},
   "source": [
    "# Remove Items"
   ]
  },
  {
   "cell_type": "code",
   "execution_count": 27,
   "id": "0ce246e0-ebdc-453b-a396-98db040245b9",
   "metadata": {},
   "outputs": [
    {
     "name": "stdout",
     "output_type": "stream",
     "text": [
      "('banana', 'cherry')\n"
     ]
    }
   ],
   "source": [
    "thistuple = (\"apple\", \"banana\", \"cherry\")\n",
    "y = list(thistuple)\n",
    "y.remove(\"apple\")\n",
    "thistuple = tuple(y)\n",
    "print(thistuple)"
   ]
  },
  {
   "cell_type": "code",
   "execution_count": 29,
   "id": "862a86d8-3275-470c-9fa6-d860d20627b5",
   "metadata": {},
   "outputs": [
    {
     "ename": "NameError",
     "evalue": "name 'thistuple' is not defined",
     "output_type": "error",
     "traceback": [
      "\u001b[31m---------------------------------------------------------------------------\u001b[39m",
      "\u001b[31mNameError\u001b[39m                                 Traceback (most recent call last)",
      "\u001b[36mCell\u001b[39m\u001b[36m \u001b[39m\u001b[32mIn[29]\u001b[39m\u001b[32m, line 3\u001b[39m\n\u001b[32m      1\u001b[39m thistuple = (\u001b[33m\"\u001b[39m\u001b[33mapple\u001b[39m\u001b[33m\"\u001b[39m, \u001b[33m\"\u001b[39m\u001b[33mbanana\u001b[39m\u001b[33m\"\u001b[39m, \u001b[33m\"\u001b[39m\u001b[33mcherry\u001b[39m\u001b[33m\"\u001b[39m)\n\u001b[32m      2\u001b[39m \u001b[38;5;28;01mdel\u001b[39;00m thistuple\n\u001b[32m----> \u001b[39m\u001b[32m3\u001b[39m \u001b[38;5;28mprint\u001b[39m(\u001b[43mthistuple\u001b[49m)\n",
      "\u001b[31mNameError\u001b[39m: name 'thistuple' is not defined"
     ]
    }
   ],
   "source": [
    "thistuple = (\"apple\", \"banana\", \"cherry\")\n",
    "del thistuple\n",
    "print(thistuple)"
   ]
  },
  {
   "cell_type": "markdown",
   "id": "3251dd89-a808-43da-a23c-e869ebcf53dd",
   "metadata": {},
   "source": [
    "# Unpacking a tuple OR destructuring a data"
   ]
  },
  {
   "cell_type": "markdown",
   "id": "9debe136-8ac0-4131-b4b6-496e3f3464f9",
   "metadata": {},
   "source": [
    "# packing a tuple\n",
    "\n",
    "fruits = (\"apple\", \"banana\", \"cherry\")\n"
   ]
  },
  {
   "cell_type": "code",
   "execution_count": 31,
   "id": "d67af351-747d-4c27-afee-3c3a32c937ad",
   "metadata": {},
   "outputs": [
    {
     "name": "stdout",
     "output_type": "stream",
     "text": [
      "apple\n",
      "banana\n",
      "cherry\n"
     ]
    }
   ],
   "source": [
    "fruits = (\"apple\", \"banana\", \"cherry\")\n",
    "(green, yellow, red) = fruits\n",
    "print(green)\n",
    "print(yellow)\n",
    "print(red)"
   ]
  },
  {
   "cell_type": "markdown",
   "id": "9e13ee4f-47e7-45c6-9ce7-6888f62e559e",
   "metadata": {},
   "source": [
    "# Using asterick *"
   ]
  },
  {
   "cell_type": "code",
   "execution_count": 32,
   "id": "56b88bd9-74a0-4241-a7a3-b7efdc04b81a",
   "metadata": {},
   "outputs": [
    {
     "name": "stdout",
     "output_type": "stream",
     "text": [
      "apple\n",
      "banana\n",
      "['cherry', 'strawberry', 'raspberry']\n"
     ]
    }
   ],
   "source": [
    "fruits = (\"apple\", \"banana\", \"cherry\", \"strawberry\", \"raspberry\")\n",
    "\n",
    "(green, yellow, *red) = fruits\n",
    "\n",
    "print(green)\n",
    "print(yellow)\n",
    "print(red)"
   ]
  },
  {
   "cell_type": "code",
   "execution_count": 33,
   "id": "8ad04951-1df3-4738-b2fe-9e7812b50214",
   "metadata": {},
   "outputs": [
    {
     "name": "stdout",
     "output_type": "stream",
     "text": [
      "apple\n",
      "['mango', 'papaya', 'pineapple']\n",
      "cherry\n"
     ]
    }
   ],
   "source": [
    "fruits = (\"apple\", \"mango\", \"papaya\", \"pineapple\", \"cherry\")\n",
    "\n",
    "(green, *tropic, red) = fruits\n",
    "\n",
    "print(green)\n",
    "print(tropic)\n",
    "print(red)"
   ]
  },
  {
   "cell_type": "markdown",
   "id": "26007d99-7335-4af6-b8a4-4face29b12b7",
   "metadata": {},
   "source": [
    "# Loop through Tuples*"
   ]
  },
  {
   "cell_type": "code",
   "execution_count": 34,
   "id": "90d42e98-c5ef-4cd5-a2b8-251a3ce0412e",
   "metadata": {},
   "outputs": [
    {
     "name": "stdout",
     "output_type": "stream",
     "text": [
      "apple\n",
      "banana\n",
      "cherry\n"
     ]
    }
   ],
   "source": [
    "thistuple = (\"apple\", \"banana\", \"cherry\")\n",
    "for x in thistuple:\n",
    "  print(x)"
   ]
  },
  {
   "cell_type": "code",
   "execution_count": 35,
   "id": "a2a38b5d-2364-405a-a3e9-16230d5b0743",
   "metadata": {},
   "outputs": [
    {
     "name": "stdout",
     "output_type": "stream",
     "text": [
      "apple\n",
      "banana\n",
      "cherry\n"
     ]
    }
   ],
   "source": [
    "thistuple = (\"apple\", \"banana\", \"cherry\")\n",
    "for i in range(len(thistuple)):\n",
    "  print(thistuple[i])"
   ]
  },
  {
   "cell_type": "code",
   "execution_count": 36,
   "id": "237ce538-426f-41c2-9cbc-a0cfaf1b5878",
   "metadata": {},
   "outputs": [
    {
     "name": "stdout",
     "output_type": "stream",
     "text": [
      "apple\n",
      "banana\n",
      "cherry\n"
     ]
    }
   ],
   "source": [
    "thistuple = (\"apple\", \"banana\", \"cherry\")\n",
    "i = 0\n",
    "while i < len(thistuple):\n",
    "  print(thistuple[i])\n",
    "  i = i + 1"
   ]
  },
  {
   "cell_type": "markdown",
   "id": "8c155c2b-b4ca-4b43-b68c-2d3448447422",
   "metadata": {},
   "source": [
    "# Join through Tuples*"
   ]
  },
  {
   "cell_type": "code",
   "execution_count": 37,
   "id": "eaf2cb5d-d945-43cf-9bd4-5c656af09651",
   "metadata": {},
   "outputs": [
    {
     "name": "stdout",
     "output_type": "stream",
     "text": [
      "('a', 'b', 'c', 1, 2, 3)\n"
     ]
    }
   ],
   "source": [
    "tuple1 = (\"a\", \"b\" , \"c\")\n",
    "tuple2 = (1, 2, 3)\n",
    "\n",
    "tuple3 = tuple1 + tuple2\n",
    "print(tuple3)"
   ]
  },
  {
   "cell_type": "code",
   "execution_count": 38,
   "id": "27a3b215-bf72-44c8-87e9-3700439caf13",
   "metadata": {},
   "outputs": [
    {
     "name": "stdout",
     "output_type": "stream",
     "text": [
      "('apple', 'banana', 'cherry', 'apple', 'banana', 'cherry')\n"
     ]
    }
   ],
   "source": [
    "fruits = (\"apple\", \"banana\", \"cherry\")\n",
    "mytuple = fruits * 2\n",
    "\n",
    "print(mytuple)"
   ]
  },
  {
   "cell_type": "code",
   "execution_count": 39,
   "id": "40ac7410-66c4-435e-a6f3-5e3ab5adffe9",
   "metadata": {},
   "outputs": [],
   "source": [
    "# count()\tReturns the number of times a specified value occurs in a tuple\n",
    "# index()\tSearches the tuple for a specified value and returns the position of where it was found"
   ]
  },
  {
   "cell_type": "code",
   "execution_count": null,
   "id": "5363e4ea-2dc1-4427-b245-04ea667adc04",
   "metadata": {},
   "outputs": [],
   "source": []
  }
 ],
 "metadata": {
  "kernelspec": {
   "display_name": "Python [conda env:base] *",
   "language": "python",
   "name": "conda-base-py"
  },
  "language_info": {
   "codemirror_mode": {
    "name": "ipython",
    "version": 3
   },
   "file_extension": ".py",
   "mimetype": "text/x-python",
   "name": "python",
   "nbconvert_exporter": "python",
   "pygments_lexer": "ipython3",
   "version": "3.13.5"
  }
 },
 "nbformat": 4,
 "nbformat_minor": 5
}
