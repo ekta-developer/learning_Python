{
 "cells": [
  {
   "cell_type": "code",
   "execution_count": 1,
   "id": "f4414e81-fcb0-4184-843e-d87a8052cf44",
   "metadata": {},
   "outputs": [
    {
     "name": "stdout",
     "output_type": "stream",
     "text": [
      "['apple', 'banana', 'Cherry', 'Ruby', 'Banana']\n"
     ]
    }
   ],
   "source": [
    "list=[\"apple\",\"banana\",\"Cherry\",\"Ruby\",\"Banana\"]\n",
    "print(list)"
   ]
  },
  {
   "cell_type": "code",
   "execution_count": 2,
   "id": "24c28d12-4048-41ff-993e-ae3673c5ac8f",
   "metadata": {},
   "outputs": [
    {
     "name": "stdout",
     "output_type": "stream",
     "text": [
      "5\n"
     ]
    }
   ],
   "source": [
    "#check length of list\n",
    "print(len(list))"
   ]
  },
  {
   "cell_type": "code",
   "execution_count": 4,
   "id": "2402ba10-f455-4159-8b55-dbaf81a81d85",
   "metadata": {},
   "outputs": [
    {
     "name": "stdout",
     "output_type": "stream",
     "text": [
      "[67, 'Fizza', 34.89, 'D', False]\n"
     ]
    }
   ],
   "source": [
    "#a list can contains many datatypes\n",
    "listOfMultipleData=[67,\"Fizza\",34.89,\"D\",False]\n",
    "print(listOfMultipleData)\n"
   ]
  },
  {
   "cell_type": "code",
   "execution_count": 5,
   "id": "ced1ddec-9906-43d8-b1c7-61ee3b0519de",
   "metadata": {},
   "outputs": [
    {
     "name": "stdout",
     "output_type": "stream",
     "text": [
      "<class 'list'>\n"
     ]
    }
   ],
   "source": [
    "# check the type of list\n",
    "print(type(list))"
   ]
  },
  {
   "cell_type": "code",
   "execution_count": null,
   "id": "ddb4bed1-fda8-49b8-ba66-4fb0282d0e45",
   "metadata": {},
   "outputs": [],
   "source": [
    "#List constructor()\n",
    "thislist=list((\"Apple\",\"Mango\",\"banana\"))"
   ]
  },
  {
   "cell_type": "code",
   "execution_count": 6,
   "id": "44669787-97db-498c-b48c-b8620d566b39",
   "metadata": {},
   "outputs": [
    {
     "name": "stdout",
     "output_type": "stream",
     "text": [
      "D\n"
     ]
    }
   ],
   "source": [
    "# print second item of list\n",
    "listOfMultipleData=[67,\"Fizza\",34.89,\"D\",False]\n",
    "print(listOfMultipleData[3])"
   ]
  },
  {
   "cell_type": "code",
   "execution_count": 7,
   "id": "094e57ec-c978-4673-bab3-e18c4a5043c7",
   "metadata": {},
   "outputs": [
    {
     "name": "stdout",
     "output_type": "stream",
     "text": [
      "False\n",
      "D\n"
     ]
    }
   ],
   "source": [
    "#negative indexinmg\n",
    "listOfMultipleData=[67,\"Fizza\",34.89,\"D\",False]\n",
    "print(listOfMultipleData[-1])\n",
    "print(listOfMultipleData[-2])"
   ]
  },
  {
   "cell_type": "code",
   "execution_count": 8,
   "id": "b50e28eb-6313-420e-a553-36e4fa555483",
   "metadata": {},
   "outputs": [
    {
     "name": "stdout",
     "output_type": "stream",
     "text": [
      "[34.89, 'D', False]\n"
     ]
    }
   ],
   "source": [
    "#range of indexes\n",
    "listOfMultipleData=[67,\"Fizza\",34.89,\"D\",False]\n",
    "print(listOfMultipleData[2:5])"
   ]
  },
  {
   "cell_type": "code",
   "execution_count": 10,
   "id": "7b7d042f-9dc6-4794-9c7c-ea4eca8247aa",
   "metadata": {},
   "outputs": [
    {
     "name": "stdout",
     "output_type": "stream",
     "text": [
      "[67, 'Fizza', 34.89, 'D']\n"
     ]
    }
   ],
   "source": [
    "listOfMultipleData=[67,\"Fizza\",34.89,\"D\",False]\n",
    "print(listOfMultipleData[:4])"
   ]
  },
  {
   "cell_type": "code",
   "execution_count": 11,
   "id": "e746b420-e1ce-4378-ae2d-4e9b4e4bc5b6",
   "metadata": {},
   "outputs": [
    {
     "name": "stdout",
     "output_type": "stream",
     "text": [
      "['D', False]\n"
     ]
    }
   ],
   "source": [
    "listOfMultipleData=[67,\"Fizza\",34.89,\"D\",False]\n",
    "print(listOfMultipleData[3:])"
   ]
  },
  {
   "cell_type": "code",
   "execution_count": 13,
   "id": "8e133d17-8dbc-496f-b773-db3dc480e225",
   "metadata": {},
   "outputs": [
    {
     "name": "stdout",
     "output_type": "stream",
     "text": [
      "Yes!!\n"
     ]
    }
   ],
   "source": [
    "#check if any item present in list \n",
    "if False in listOfMultipleData:\n",
    "    print(\"Yes!!\")\n",
    "else:\n",
    "    print(\"No!\")"
   ]
  },
  {
   "cell_type": "markdown",
   "id": "9c6b6e67-67dc-4220-851a-d317cee4580e",
   "metadata": {},
   "source": [
    "# Chenge item in list"
   ]
  },
  {
   "cell_type": "code",
   "execution_count": 16,
   "id": "586f3efa-abe8-43d4-8855-c9ddde3698ba",
   "metadata": {},
   "outputs": [
    {
     "name": "stdout",
     "output_type": "stream",
     "text": [
      "['apple', 'blackcurrant', 'cherry']\n"
     ]
    }
   ],
   "source": [
    "thislist = [\"apple\", \"banana\", \"cherry\"]\n",
    "thislist[1] = \"blackcurrant\"\n",
    "print(thislist)"
   ]
  },
  {
   "cell_type": "markdown",
   "id": "7ae59008-1ccd-4f6d-a3a5-670250363107",
   "metadata": {},
   "source": [
    "# Chenge a range of item in list"
   ]
  },
  {
   "cell_type": "code",
   "execution_count": 17,
   "id": "63eeb3a0-8fbf-466d-94d9-7a10b8d2be22",
   "metadata": {},
   "outputs": [
    {
     "name": "stdout",
     "output_type": "stream",
     "text": [
      "['apple', 'blackcurrant', 'Cherry', 'Lemon']\n"
     ]
    }
   ],
   "source": [
    "thislist = [\"apple\", \"banana\", \"cherry\"]\n",
    "thislist[1:3] = [\"blackcurrant\",\"Cherry\",\"Lemon\"]\n",
    "print(thislist)"
   ]
  },
  {
   "cell_type": "markdown",
   "id": "5e69638d-a59e-491b-9d7e-0f4b15a82ae4",
   "metadata": {},
   "source": [
    "# Insert Items"
   ]
  },
  {
   "cell_type": "code",
   "execution_count": 18,
   "id": "7e9c068c-1d08-4226-ae6a-b115c65e8789",
   "metadata": {},
   "outputs": [
    {
     "name": "stdout",
     "output_type": "stream",
     "text": [
      "['apple', 'banana', 'Muskmelon', 'cherry']\n"
     ]
    }
   ],
   "source": [
    "thislist = [\"apple\", \"banana\", \"cherry\"]\n",
    "thislist.insert(2,\"Muskmelon\")\n",
    "print(thislist)"
   ]
  },
  {
   "cell_type": "markdown",
   "id": "4e4951bd-2700-436c-9116-f5925dafa50e",
   "metadata": {},
   "source": [
    "# Append Items"
   ]
  },
  {
   "cell_type": "code",
   "execution_count": 24,
   "id": "d833be88-61d0-4ac1-ab71-48af5a50971b",
   "metadata": {},
   "outputs": [
    {
     "name": "stdout",
     "output_type": "stream",
     "text": [
      "['Apple', 'Mango', 'Banana', 'Orange']\n"
     ]
    }
   ],
   "source": [
    "list=[\"Apple\",\"Mango\",\"Banana\"]\n",
    "list.append(\"Orange\")\n",
    "print(list)"
   ]
  },
  {
   "cell_type": "markdown",
   "id": "5dcc9d33-4cb8-4a04-8bcf-0fa154d7a737",
   "metadata": {},
   "source": [
    "# Extends Items\n",
    "  merge two Lists"
   ]
  },
  {
   "cell_type": "code",
   "execution_count": 26,
   "id": "8f52e5bf-5234-474b-9205-820ab5584cac",
   "metadata": {},
   "outputs": [
    {
     "name": "stdout",
     "output_type": "stream",
     "text": [
      "[67, 'Fizza', 34.89, 'D', False, 'apple', 'banana', 'cherry']\n"
     ]
    }
   ],
   "source": [
    "listOfMultipleData=[67,\"Fizza\",34.89,\"D\",False]\n",
    "thislist = [\"apple\", \"banana\", \"cherry\"]\n",
    "listOfMultipleData.extend(thislist)\n",
    "print(listOfMultipleData)"
   ]
  },
  {
   "cell_type": "markdown",
   "id": "4eb8ea0d-c67c-498a-83d4-97135bd74c3f",
   "metadata": {},
   "source": [
    "# remove specified Items"
   ]
  },
  {
   "cell_type": "code",
   "execution_count": null,
   "id": "c403e7de-1ec2-4556-8415-181a792a9a08",
   "metadata": {},
   "outputs": [],
   "source": []
  }
 ],
 "metadata": {
  "kernelspec": {
   "display_name": "Python [conda env:base] *",
   "language": "python",
   "name": "conda-base-py"
  },
  "language_info": {
   "codemirror_mode": {
    "name": "ipython",
    "version": 3
   },
   "file_extension": ".py",
   "mimetype": "text/x-python",
   "name": "python",
   "nbconvert_exporter": "python",
   "pygments_lexer": "ipython3",
   "version": "3.13.5"
  }
 },
 "nbformat": 4,
 "nbformat_minor": 5
}
