{
 "cells": [
  {
   "cell_type": "code",
   "execution_count": 1,
   "id": "f4414e81-fcb0-4184-843e-d87a8052cf44",
   "metadata": {},
   "outputs": [
    {
     "name": "stdout",
     "output_type": "stream",
     "text": [
      "['apple', 'banana', 'Cherry', 'Ruby', 'Banana']\n"
     ]
    }
   ],
   "source": [
    "list=[\"apple\",\"banana\",\"Cherry\",\"Ruby\",\"Banana\"]\n",
    "print(list)"
   ]
  },
  {
   "cell_type": "code",
   "execution_count": 2,
   "id": "24c28d12-4048-41ff-993e-ae3673c5ac8f",
   "metadata": {},
   "outputs": [
    {
     "name": "stdout",
     "output_type": "stream",
     "text": [
      "5\n"
     ]
    }
   ],
   "source": [
    "#check length of list\n",
    "print(len(list))"
   ]
  },
  {
   "cell_type": "code",
   "execution_count": 4,
   "id": "2402ba10-f455-4159-8b55-dbaf81a81d85",
   "metadata": {},
   "outputs": [
    {
     "name": "stdout",
     "output_type": "stream",
     "text": [
      "[67, 'Fizza', 34.89, 'D', False]\n"
     ]
    }
   ],
   "source": [
    "#a list can contains many datatypes\n",
    "listOfMultipleData=[67,\"Fizza\",34.89,\"D\",False]\n",
    "print(listOfMultipleData)\n"
   ]
  },
  {
   "cell_type": "code",
   "execution_count": 5,
   "id": "ced1ddec-9906-43d8-b1c7-61ee3b0519de",
   "metadata": {},
   "outputs": [
    {
     "name": "stdout",
     "output_type": "stream",
     "text": [
      "<class 'list'>\n"
     ]
    }
   ],
   "source": [
    "# check the type of list\n",
    "print(type(list))"
   ]
  },
  {
   "cell_type": "code",
   "execution_count": null,
   "id": "ddb4bed1-fda8-49b8-ba66-4fb0282d0e45",
   "metadata": {},
   "outputs": [],
   "source": [
    "#List constructor()\n",
    "thislist=list((\"Apple\",\"Mango\",\"banana\"))"
   ]
  },
  {
   "cell_type": "code",
   "execution_count": 6,
   "id": "44669787-97db-498c-b48c-b8620d566b39",
   "metadata": {},
   "outputs": [
    {
     "name": "stdout",
     "output_type": "stream",
     "text": [
      "D\n"
     ]
    }
   ],
   "source": [
    "# print second item of list\n",
    "listOfMultipleData=[67,\"Fizza\",34.89,\"D\",False]\n",
    "print(listOfMultipleData[3])"
   ]
  },
  {
   "cell_type": "code",
   "execution_count": 7,
   "id": "094e57ec-c978-4673-bab3-e18c4a5043c7",
   "metadata": {},
   "outputs": [
    {
     "name": "stdout",
     "output_type": "stream",
     "text": [
      "False\n",
      "D\n"
     ]
    }
   ],
   "source": [
    "#negative indexinmg\n",
    "listOfMultipleData=[67,\"Fizza\",34.89,\"D\",False]\n",
    "print(listOfMultipleData[-1])\n",
    "print(listOfMultipleData[-2])"
   ]
  },
  {
   "cell_type": "code",
   "execution_count": 8,
   "id": "b50e28eb-6313-420e-a553-36e4fa555483",
   "metadata": {},
   "outputs": [
    {
     "name": "stdout",
     "output_type": "stream",
     "text": [
      "[34.89, 'D', False]\n"
     ]
    }
   ],
   "source": [
    "#range of indexes\n",
    "listOfMultipleData=[67,\"Fizza\",34.89,\"D\",False]\n",
    "print(listOfMultipleData[2:5])"
   ]
  },
  {
   "cell_type": "code",
   "execution_count": 10,
   "id": "7b7d042f-9dc6-4794-9c7c-ea4eca8247aa",
   "metadata": {},
   "outputs": [
    {
     "name": "stdout",
     "output_type": "stream",
     "text": [
      "[67, 'Fizza', 34.89, 'D']\n"
     ]
    }
   ],
   "source": [
    "listOfMultipleData=[67,\"Fizza\",34.89,\"D\",False]\n",
    "print(listOfMultipleData[:4])"
   ]
  },
  {
   "cell_type": "code",
   "execution_count": 11,
   "id": "e746b420-e1ce-4378-ae2d-4e9b4e4bc5b6",
   "metadata": {},
   "outputs": [
    {
     "name": "stdout",
     "output_type": "stream",
     "text": [
      "['D', False]\n"
     ]
    }
   ],
   "source": [
    "listOfMultipleData=[67,\"Fizza\",34.89,\"D\",False]\n",
    "print(listOfMultipleData[3:])"
   ]
  },
  {
   "cell_type": "code",
   "execution_count": 13,
   "id": "8e133d17-8dbc-496f-b773-db3dc480e225",
   "metadata": {},
   "outputs": [
    {
     "name": "stdout",
     "output_type": "stream",
     "text": [
      "Yes!!\n"
     ]
    }
   ],
   "source": [
    "#check if any item present in list \n",
    "if False in listOfMultipleData:\n",
    "    print(\"Yes!!\")\n",
    "else:\n",
    "    print(\"No!\")"
   ]
  },
  {
   "cell_type": "markdown",
   "id": "9c6b6e67-67dc-4220-851a-d317cee4580e",
   "metadata": {},
   "source": [
    "# Chenge item in list"
   ]
  },
  {
   "cell_type": "code",
   "execution_count": 16,
   "id": "586f3efa-abe8-43d4-8855-c9ddde3698ba",
   "metadata": {},
   "outputs": [
    {
     "name": "stdout",
     "output_type": "stream",
     "text": [
      "['apple', 'blackcurrant', 'cherry']\n"
     ]
    }
   ],
   "source": [
    "thislist = [\"apple\", \"banana\", \"cherry\"]\n",
    "thislist[1] = \"blackcurrant\"\n",
    "print(thislist)"
   ]
  },
  {
   "cell_type": "markdown",
   "id": "7ae59008-1ccd-4f6d-a3a5-670250363107",
   "metadata": {},
   "source": [
    "# Chenge a range of item in list"
   ]
  },
  {
   "cell_type": "code",
   "execution_count": 17,
   "id": "63eeb3a0-8fbf-466d-94d9-7a10b8d2be22",
   "metadata": {},
   "outputs": [
    {
     "name": "stdout",
     "output_type": "stream",
     "text": [
      "['apple', 'blackcurrant', 'Cherry', 'Lemon']\n"
     ]
    }
   ],
   "source": [
    "thislist = [\"apple\", \"banana\", \"cherry\"]\n",
    "thislist[1:3] = [\"blackcurrant\",\"Cherry\",\"Lemon\"]\n",
    "print(thislist)"
   ]
  },
  {
   "cell_type": "markdown",
   "id": "5e69638d-a59e-491b-9d7e-0f4b15a82ae4",
   "metadata": {},
   "source": [
    "# Insert Items"
   ]
  },
  {
   "cell_type": "code",
   "execution_count": 18,
   "id": "7e9c068c-1d08-4226-ae6a-b115c65e8789",
   "metadata": {},
   "outputs": [
    {
     "name": "stdout",
     "output_type": "stream",
     "text": [
      "['apple', 'banana', 'Muskmelon', 'cherry']\n"
     ]
    }
   ],
   "source": [
    "thislist = [\"apple\", \"banana\", \"cherry\"]\n",
    "thislist.insert(2,\"Muskmelon\")\n",
    "print(thislist)"
   ]
  },
  {
   "cell_type": "markdown",
   "id": "4e4951bd-2700-436c-9116-f5925dafa50e",
   "metadata": {},
   "source": [
    "# Append Items"
   ]
  },
  {
   "cell_type": "code",
   "execution_count": 24,
   "id": "d833be88-61d0-4ac1-ab71-48af5a50971b",
   "metadata": {},
   "outputs": [
    {
     "name": "stdout",
     "output_type": "stream",
     "text": [
      "['Apple', 'Mango', 'Banana', 'Orange']\n"
     ]
    }
   ],
   "source": [
    "list=[\"Apple\",\"Mango\",\"Banana\"]\n",
    "list.append(\"Orange\")\n",
    "print(list)"
   ]
  },
  {
   "cell_type": "markdown",
   "id": "5dcc9d33-4cb8-4a04-8bcf-0fa154d7a737",
   "metadata": {},
   "source": [
    "# Extends Items\n",
    "  merge two Lists"
   ]
  },
  {
   "cell_type": "code",
   "execution_count": 26,
   "id": "8f52e5bf-5234-474b-9205-820ab5584cac",
   "metadata": {},
   "outputs": [
    {
     "name": "stdout",
     "output_type": "stream",
     "text": [
      "[67, 'Fizza', 34.89, 'D', False, 'apple', 'banana', 'cherry']\n"
     ]
    }
   ],
   "source": [
    "listOfMultipleData=[67,\"Fizza\",34.89,\"D\",False]\n",
    "thislist = [\"apple\", \"banana\", \"cherry\"]\n",
    "listOfMultipleData.extend(thislist)\n",
    "print(listOfMultipleData)"
   ]
  },
  {
   "cell_type": "markdown",
   "id": "4eb8ea0d-c67c-498a-83d4-97135bd74c3f",
   "metadata": {},
   "source": [
    "# remove specified Items"
   ]
  },
  {
   "cell_type": "code",
   "execution_count": 1,
   "id": "c403e7de-1ec2-4556-8415-181a792a9a08",
   "metadata": {},
   "outputs": [
    {
     "name": "stdout",
     "output_type": "stream",
     "text": [
      "[67, 34.89, 'D', False]\n"
     ]
    }
   ],
   "source": [
    "listOfMultipleData=[67,\"Fizza\",34.89,\"D\",False]\n",
    "listOfMultipleData.remove(\"Fizza\")\n",
    "print(listOfMultipleData)"
   ]
  },
  {
   "cell_type": "markdown",
   "id": "cac05528-3457-48cf-8944-11194fad08bb",
   "metadata": {},
   "source": [
    "# Remove from specified index using Pop()\n"
   ]
  },
  {
   "cell_type": "code",
   "execution_count": 2,
   "id": "5cbc5cde-2bdf-4406-bca2-8d637d6cfb70",
   "metadata": {},
   "outputs": [
    {
     "name": "stdout",
     "output_type": "stream",
     "text": [
      "[67, 'Fizza', 34.89, False]\n"
     ]
    }
   ],
   "source": [
    "listOfMultipleData=[67,\"Fizza\",34.89,\"D\",False]\n",
    "listOfMultipleData.pop(3)\n",
    "print(listOfMultipleData)"
   ]
  },
  {
   "cell_type": "markdown",
   "id": "2e82ab4b-047c-45a7-889c-ad6961af1c25",
   "metadata": {},
   "source": [
    "# Remove from specified index using del and then pass index value\n"
   ]
  },
  {
   "cell_type": "code",
   "execution_count": 4,
   "id": "11ba4d8c-bf12-4091-8253-0846c79ba6f3",
   "metadata": {},
   "outputs": [
    {
     "name": "stdout",
     "output_type": "stream",
     "text": [
      "[67, 'Fizza', 'D', False]\n"
     ]
    }
   ],
   "source": [
    "listOfMultipleData=[67,\"Fizza\",34.89,\"D\",False]\n",
    "del listOfMultipleData[2]\n",
    "print(listOfMultipleData)"
   ]
  },
  {
   "cell_type": "markdown",
   "id": "5d9bfb6a-2acd-4b0a-92f3-b052913dc6c7",
   "metadata": {},
   "source": [
    "# use Clear() function to delete whole list"
   ]
  },
  {
   "cell_type": "code",
   "execution_count": 6,
   "id": "d3cd95f3-64b8-460f-9a0c-b40e432dcf4d",
   "metadata": {},
   "outputs": [
    {
     "name": "stdout",
     "output_type": "stream",
     "text": [
      "[]\n"
     ]
    }
   ],
   "source": [
    "listOfMultipleData=[67,\"Fizza\",34.89,\"D\",False]\n",
    "listOfMultipleData.clear()\n",
    "print(listOfMultipleData)"
   ]
  },
  {
   "cell_type": "markdown",
   "id": "0d175ce9-07eb-4fdc-b29b-7fdaeb7fa1f8",
   "metadata": {},
   "source": [
    "# LIST LOOP"
   ]
  },
  {
   "cell_type": "code",
   "execution_count": 11,
   "id": "5ed5c1a6-dce8-4509-b9bd-e04475347e77",
   "metadata": {},
   "outputs": [
    {
     "name": "stdout",
     "output_type": "stream",
     "text": [
      "Potato\n",
      "Brinjel\n",
      "Bottle Gourd\n",
      "Tomato\n"
     ]
    }
   ],
   "source": [
    "thisList=[\"Potato\",\"Brinjel\",\"Bottle Gourd\",\"Tomato\"]\n",
    "for i in range(len(thisList)): \n",
    "   print(thisList[i])"
   ]
  },
  {
   "cell_type": "code",
   "execution_count": 13,
   "id": "de47dfd3-0d95-4107-b2c5-3c2e3f2f59cd",
   "metadata": {},
   "outputs": [
    {
     "name": "stdout",
     "output_type": "stream",
     "text": [
      "Potato\n",
      "Brinjel\n",
      "Bottle Gourd\n",
      "Tomato\n"
     ]
    }
   ],
   "source": [
    "thisList=[\"Potato\",\"Brinjel\",\"Bottle Gourd\",\"Tomato\"]\n",
    "for x in thisList:\n",
    "   print(x)"
   ]
  },
  {
   "cell_type": "code",
   "execution_count": 16,
   "id": "34f1245e-e055-40c9-aa3b-4b52578ca4b8",
   "metadata": {},
   "outputs": [
    {
     "name": "stdout",
     "output_type": "stream",
     "text": [
      "apple\n",
      "banana\n",
      "cherry\n"
     ]
    }
   ],
   "source": [
    "thislist = [\"apple\", \"banana\", \"cherry\"]\n",
    "i = 0\n",
    "while i < len(thislist):\n",
    "  print(thislist[i])\n",
    "  i = i + 1\n"
   ]
  },
  {
   "cell_type": "code",
   "execution_count": 17,
   "id": "9498c76f-e4a6-4dbb-bc59-44aa44efafa7",
   "metadata": {},
   "outputs": [
    {
     "name": "stdout",
     "output_type": "stream",
     "text": [
      "Potato\n",
      "Brinjel\n",
      "Bottle Gourd\n",
      "Tomato\n"
     ]
    },
    {
     "data": {
      "text/plain": [
       "[None, None, None, None]"
      ]
     },
     "execution_count": 17,
     "metadata": {},
     "output_type": "execute_result"
    }
   ],
   "source": [
    "thisList=[\"Potato\",\"Brinjel\",\"Bottle Gourd\",\"Tomato\"]\n",
    "[print(x) for x in thisList]\n",
    "   "
   ]
  },
  {
   "cell_type": "markdown",
   "id": "1afe79a8-feb5-4da3-97c5-112906ebb9ab",
   "metadata": {},
   "source": [
    "# List Comprehension\n"
   ]
  },
  {
   "cell_type": "code",
   "execution_count": 21,
   "id": "8b36efe7-074b-403d-a62a-b922f010bda6",
   "metadata": {},
   "outputs": [
    {
     "name": "stdout",
     "output_type": "stream",
     "text": [
      "['apple', 'banana', 'mango']\n"
     ]
    }
   ],
   "source": [
    "fruits = [\"apple\", \"banana\", \"cherry\", \"kiwi\", \"mango\"]\n",
    "newlist = [x for x in fruits if\"a\"in x]\n",
    "print(newlist)"
   ]
  },
  {
   "cell_type": "markdown",
   "id": "56628154-bbc5-457a-acc0-fac0c0d38a1b",
   "metadata": {},
   "source": [
    "# Sorts list\n"
   ]
  },
  {
   "cell_type": "code",
   "execution_count": 22,
   "id": "1ded13a3-1f86-422b-b059-08146566e6cf",
   "metadata": {},
   "outputs": [
    {
     "name": "stdout",
     "output_type": "stream",
     "text": [
      "['apple', 'banana', 'cherry', 'kiwi', 'mango']\n"
     ]
    }
   ],
   "source": [
    "fruits = [\"apple\", \"banana\", \"cherry\", \"kiwi\", \"mango\"]\n",
    "fruits.sort()\n",
    "print(fruits)"
   ]
  },
  {
   "cell_type": "code",
   "execution_count": 23,
   "id": "cab57ba8-be4b-4798-8a6f-db3f18813b34",
   "metadata": {},
   "outputs": [
    {
     "name": "stdout",
     "output_type": "stream",
     "text": [
      "[23, 50, 65, 82, 100]\n"
     ]
    }
   ],
   "source": [
    "thislist = [100, 50, 65, 82, 23]\n",
    "thislist.sort()\n",
    "print(thislist)"
   ]
  },
  {
   "cell_type": "code",
   "execution_count": 26,
   "id": "157dd82b-19c9-4677-b0aa-2f52e532aac0",
   "metadata": {},
   "outputs": [
    {
     "name": "stdout",
     "output_type": "stream",
     "text": [
      "['mango', 'kiwi', 'cherry', 'banana', 'apple']\n"
     ]
    }
   ],
   "source": [
    "fruits = [\"apple\", \"banana\", \"cherry\", \"kiwi\", \"mango\"]\n",
    "fruits.sort(reverse = True)\n",
    "print(fruits)"
   ]
  },
  {
   "cell_type": "markdown",
   "id": "3fd63535-20de-4108-8f8c-637adfe92440",
   "metadata": {},
   "source": [
    "# case Insensitive sort\n"
   ]
  },
  {
   "cell_type": "code",
   "execution_count": 29,
   "id": "686ea408-36fa-4b0d-81e0-0cb1006c1592",
   "metadata": {},
   "outputs": [
    {
     "name": "stdout",
     "output_type": "stream",
     "text": [
      "['apple', 'Banana', 'cherry', 'Kiwi', 'mango']\n"
     ]
    }
   ],
   "source": [
    "fruits = [\"apple\", \"Banana\", \"cherry\", \"Kiwi\", \"mango\"]\n",
    "fruits.sort(key = str.lower)\n",
    "print(fruits)"
   ]
  },
  {
   "cell_type": "code",
   "execution_count": 31,
   "id": "372c4c37-1897-4502-8565-9622333d2b22",
   "metadata": {},
   "outputs": [
    {
     "name": "stdout",
     "output_type": "stream",
     "text": [
      "['mango', 'Kiwi', 'cherry', 'Banana', 'apple']\n"
     ]
    }
   ],
   "source": [
    "fruits=[\"apple\",\"Banana\",\"cherry\",\"Kiwi\",\"mango\"]\n",
    "fruits.reverse()\n",
    "print(fruits)"
   ]
  },
  {
   "cell_type": "markdown",
   "id": "03176f4c-64a6-4f65-aa1a-a1e0033fbf4d",
   "metadata": {},
   "source": [
    "# Copy a list\n"
   ]
  },
  {
   "cell_type": "code",
   "execution_count": 33,
   "id": "019bd4f3-0d03-49cd-9492-2811a5f7291a",
   "metadata": {},
   "outputs": [
    {
     "name": "stdout",
     "output_type": "stream",
     "text": [
      "['apple', 'Banana', 'cherry', 'Kiwi', 'mango']\n"
     ]
    }
   ],
   "source": [
    "fruits=[\"apple\",\"Banana\",\"cherry\",\"Kiwi\",\"mango\"]\n",
    "copyFruits=fruits.copy()\n",
    "print(copyFruits)"
   ]
  },
  {
   "cell_type": "code",
   "execution_count": 36,
   "id": "a9fcd2e6-95eb-4071-88c8-7b6d2cf6cedc",
   "metadata": {},
   "outputs": [
    {
     "name": "stdout",
     "output_type": "stream",
     "text": [
      "['apple', 'cherry', 'Kiwi', 'mango']\n"
     ]
    }
   ],
   "source": [
    "fruits=[\"apple\",\"cherry\",\"Kiwi\",\"mango\"]\n",
    "copyFruits=list(fruits)\n",
    "print(copyFruits)"
   ]
  },
  {
   "cell_type": "code",
   "execution_count": 37,
   "id": "22e7a0d1-4bff-4370-b192-dc6d893e3b12",
   "metadata": {},
   "outputs": [],
   "source": [
    "# List Methods\n",
    "# Python has a set of built-in methods that you can use on lists.\n",
    "\n",
    "# Method\tDescription\n",
    "# append()\tAdds an element at the end of the list\n",
    "# clear()\tRemoves all the elements from the list\n",
    "# copy()\tReturns a copy of the list\n",
    "# count()\tReturns the number of elements with the specified value\n",
    "# extend()\tAdd the elements of a list (or any iterable), to the end of the current list\n",
    "# index()\tReturns the index of the first element with the specified value\n",
    "# insert()\tAdds an element at the specified position\n",
    "# pop()\tRemoves the element at the specified position\n",
    "# remove()\tRemoves the item with the specified value\n",
    "# reverse()\tReverses the order of the list\n",
    "# sort()\tSorts the list"
   ]
  },
  {
   "cell_type": "code",
   "execution_count": null,
   "id": "eb27dd5a-3cab-4eea-888a-6fa8db04a792",
   "metadata": {},
   "outputs": [],
   "source": []
  }
 ],
 "metadata": {
  "kernelspec": {
   "display_name": "Python [conda env:base] *",
   "language": "python",
   "name": "conda-base-py"
  },
  "language_info": {
   "codemirror_mode": {
    "name": "ipython",
    "version": 3
   },
   "file_extension": ".py",
   "mimetype": "text/x-python",
   "name": "python",
   "nbconvert_exporter": "python",
   "pygments_lexer": "ipython3",
   "version": "3.13.5"
  }
 },
 "nbformat": 4,
 "nbformat_minor": 5
}
