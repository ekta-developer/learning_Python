{
 "cells": [
  {
   "cell_type": "code",
   "execution_count": 1,
   "id": "c4d7b3bd-a425-4195-9ddb-46b0db45be4e",
   "metadata": {},
   "outputs": [
    {
     "name": "stdout",
     "output_type": "stream",
     "text": [
      "Hello\n",
      "Hello\n"
     ]
    }
   ],
   "source": [
    "print(\"Hello\")\n",
    "print('Hello')"
   ]
  },
  {
   "cell_type": "code",
   "execution_count": 4,
   "id": "5d13a329-8a07-4a67-b92b-1f8630e1683d",
   "metadata": {},
   "outputs": [
    {
     "name": "stdout",
     "output_type": "stream",
     "text": [
      "I am 'Amazed'\n"
     ]
    }
   ],
   "source": [
    "#Quote inside Quotes\n",
    "print(\"I am 'Amazed'\")"
   ]
  },
  {
   "cell_type": "code",
   "execution_count": 8,
   "id": "e77c153f-3417-4a86-8e79-58d72d8c7b6b",
   "metadata": {},
   "outputs": [
    {
     "name": "stdout",
     "output_type": "stream",
     "text": [
      "Hiii I am a \n",
      "       multiline Sting, wHICH IS TYPED TO CHECK \n",
      "       I know this or not\n"
     ]
    }
   ],
   "source": [
    "#multiline String\n",
    "str=\"\"\"Hiii I am a \n",
    "       multiline Sting, wHICH IS TYPED TO CHECK \n",
    "       I know this or not\"\"\"\n",
    "print(str)"
   ]
  },
  {
   "cell_type": "code",
   "execution_count": 11,
   "id": "de245571-56e5-42f5-8693-71f1af7b228c",
   "metadata": {},
   "outputs": [
    {
     "name": "stdout",
     "output_type": "stream",
     "text": [
      "S\n",
      "r\n",
      "i\n",
      "v\n",
      "a\n",
      "s\n",
      "t\n",
      "a\n",
      "v\n",
      "a\n"
     ]
    }
   ],
   "source": [
    "#looping through a string\n",
    "for x in \"Srivastava\":\n",
    "   print(x)\n"
   ]
  },
  {
   "cell_type": "code",
   "execution_count": 13,
   "id": "73b23067-38c0-42c9-ba79-056d7de00c55",
   "metadata": {},
   "outputs": [
    {
     "name": "stdout",
     "output_type": "stream",
     "text": [
      "10\n"
     ]
    }
   ],
   "source": [
    "#string length check bt len()\n",
    "x=\"Srivastava\"\n",
    "print(len(x))"
   ]
  },
  {
   "cell_type": "code",
   "execution_count": 14,
   "id": "0e377c6a-b5bb-40aa-a19a-ec59b40bbcfd",
   "metadata": {},
   "outputs": [
    {
     "name": "stdout",
     "output_type": "stream",
     "text": [
      "True\n"
     ]
    }
   ],
   "source": [
    "#check inside string\n",
    "x= \"Srivastava\"\n",
    "print(\"a\" in x)"
   ]
  },
  {
   "cell_type": "code",
   "execution_count": 16,
   "id": "45e88839-0b6a-4174-b8cb-0c1ee5b3795d",
   "metadata": {},
   "outputs": [
    {
     "name": "stdout",
     "output_type": "stream",
     "text": [
      "'A' is present inside this\n"
     ]
    }
   ],
   "source": [
    "#in use in for loop\n",
    "x= \"Srivastava\"\n",
    "if \"a\" in x:\n",
    "    print(\"'A' is present inside this\")"
   ]
  },
  {
   "cell_type": "code",
   "execution_count": 20,
   "id": "caa9d7d7-7762-4191-a1c0-c4c7680638ad",
   "metadata": {},
   "outputs": [
    {
     "name": "stdout",
     "output_type": "stream",
     "text": [
      "'X' is not present in this\n"
     ]
    }
   ],
   "source": [
    "#use not if for not present inside a string\n",
    "x= \"Srivastava\"\n",
    "if \"x\" not in x:\n",
    "    print(\"'X' is not present in this\")"
   ]
  },
  {
   "cell_type": "code",
   "execution_count": 21,
   "id": "f1d10769-97fe-4bd2-8b3e-5e49bcd353f8",
   "metadata": {},
   "outputs": [
    {
     "name": "stdout",
     "output_type": "stream",
     "text": [
      "v\n"
     ]
    }
   ],
   "source": [
    "#print index value from a string\n",
    "x= \"Srivastava\"\n",
    "print(x[8])"
   ]
  },
  {
   "cell_type": "code",
   "execution_count": null,
   "id": "48da8d2f-06c5-4121-a482-f30893c6a675",
   "metadata": {},
   "outputs": [],
   "source": []
  }
 ],
 "metadata": {
  "kernelspec": {
   "display_name": "Python [conda env:base] *",
   "language": "python",
   "name": "conda-base-py"
  },
  "language_info": {
   "codemirror_mode": {
    "name": "ipython",
    "version": 3
   },
   "file_extension": ".py",
   "mimetype": "text/x-python",
   "name": "python",
   "nbconvert_exporter": "python",
   "pygments_lexer": "ipython3",
   "version": "3.13.5"
  }
 },
 "nbformat": 4,
 "nbformat_minor": 5
}
