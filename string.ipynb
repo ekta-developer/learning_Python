{
 "cells": [
  {
   "cell_type": "code",
   "execution_count": 1,
   "id": "c4d7b3bd-a425-4195-9ddb-46b0db45be4e",
   "metadata": {},
   "outputs": [
    {
     "name": "stdout",
     "output_type": "stream",
     "text": [
      "Hello\n",
      "Hello\n"
     ]
    }
   ],
   "source": [
    "print(\"Hello\")\n",
    "print('Hello')"
   ]
  },
  {
   "cell_type": "code",
   "execution_count": 4,
   "id": "5d13a329-8a07-4a67-b92b-1f8630e1683d",
   "metadata": {},
   "outputs": [
    {
     "name": "stdout",
     "output_type": "stream",
     "text": [
      "I am 'Amazed'\n"
     ]
    }
   ],
   "source": [
    "#Quote inside Quotes\n",
    "print(\"I am 'Amazed'\")"
   ]
  },
  {
   "cell_type": "code",
   "execution_count": 8,
   "id": "e77c153f-3417-4a86-8e79-58d72d8c7b6b",
   "metadata": {},
   "outputs": [
    {
     "name": "stdout",
     "output_type": "stream",
     "text": [
      "Hiii I am a \n",
      "       multiline Sting, wHICH IS TYPED TO CHECK \n",
      "       I know this or not\n"
     ]
    }
   ],
   "source": [
    "#multiline String\n",
    "str=\"\"\"Hiii I am a \n",
    "       multiline Sting, wHICH IS TYPED TO CHECK \n",
    "       I know this or not\"\"\"\n",
    "print(str)"
   ]
  },
  {
   "cell_type": "code",
   "execution_count": 11,
   "id": "de245571-56e5-42f5-8693-71f1af7b228c",
   "metadata": {},
   "outputs": [
    {
     "name": "stdout",
     "output_type": "stream",
     "text": [
      "S\n",
      "r\n",
      "i\n",
      "v\n",
      "a\n",
      "s\n",
      "t\n",
      "a\n",
      "v\n",
      "a\n"
     ]
    }
   ],
   "source": [
    "#looping through a string\n",
    "for x in \"Srivastava\":\n",
    "   print(x)\n"
   ]
  },
  {
   "cell_type": "code",
   "execution_count": 13,
   "id": "73b23067-38c0-42c9-ba79-056d7de00c55",
   "metadata": {},
   "outputs": [
    {
     "name": "stdout",
     "output_type": "stream",
     "text": [
      "10\n"
     ]
    }
   ],
   "source": [
    "#string length check bt len()\n",
    "x=\"Srivastava\"\n",
    "print(len(x))"
   ]
  },
  {
   "cell_type": "code",
   "execution_count": 14,
   "id": "0e377c6a-b5bb-40aa-a19a-ec59b40bbcfd",
   "metadata": {},
   "outputs": [
    {
     "name": "stdout",
     "output_type": "stream",
     "text": [
      "True\n"
     ]
    }
   ],
   "source": [
    "#check inside string\n",
    "x= \"Srivastava\"\n",
    "print(\"a\" in x)"
   ]
  },
  {
   "cell_type": "code",
   "execution_count": 16,
   "id": "45e88839-0b6a-4174-b8cb-0c1ee5b3795d",
   "metadata": {},
   "outputs": [
    {
     "name": "stdout",
     "output_type": "stream",
     "text": [
      "'A' is present inside this\n"
     ]
    }
   ],
   "source": [
    "#in use in for loop\n",
    "x= \"Srivastava\"\n",
    "if \"a\" in x:\n",
    "    print(\"'A' is present inside this\")"
   ]
  },
  {
   "cell_type": "code",
   "execution_count": 20,
   "id": "caa9d7d7-7762-4191-a1c0-c4c7680638ad",
   "metadata": {},
   "outputs": [
    {
     "name": "stdout",
     "output_type": "stream",
     "text": [
      "'X' is not present in this\n"
     ]
    }
   ],
   "source": [
    "#use not if for not present inside a string\n",
    "x= \"Srivastava\"\n",
    "if \"x\" not in x:\n",
    "    print(\"'X' is not present in this\")"
   ]
  },
  {
   "cell_type": "code",
   "execution_count": 21,
   "id": "f1d10769-97fe-4bd2-8b3e-5e49bcd353f8",
   "metadata": {},
   "outputs": [
    {
     "name": "stdout",
     "output_type": "stream",
     "text": [
      "v\n"
     ]
    }
   ],
   "source": [
    "#print index value from a string\n",
    "x= \"Srivastava\"\n",
    "print(x[8])"
   ]
  },
  {
   "cell_type": "markdown",
   "id": "d554859e-10ac-4db4-9276-1c189981b415",
   "metadata": {},
   "source": [
    "# String Slicing"
   ]
  },
  {
   "cell_type": "code",
   "execution_count": 5,
   "id": "48da8d2f-06c5-4121-a482-f30893c6a675",
   "metadata": {},
   "outputs": [
    {
     "name": "stdout",
     "output_type": "stream",
     "text": [
      "sta\n"
     ]
    }
   ],
   "source": [
    "x=\"Srivastava\"\n",
    "print(x[5:8])"
   ]
  },
  {
   "cell_type": "code",
   "execution_count": 6,
   "id": "4d26ca00-6c90-4da4-9b0f-457057c4c299",
   "metadata": {},
   "outputs": [
    {
     "name": "stdout",
     "output_type": "stream",
     "text": [
      "aphy\n"
     ]
    }
   ],
   "source": [
    "x=\"Geography\"\n",
    "print(x[5:])"
   ]
  },
  {
   "cell_type": "code",
   "execution_count": 8,
   "id": "64876e45-fef3-4925-80e0-145a6a37dd42",
   "metadata": {},
   "outputs": [
    {
     "name": "stdout",
     "output_type": "stream",
     "text": [
      "Histor\n"
     ]
    }
   ],
   "source": [
    "x=\"History\"\n",
    "print(x[:6])"
   ]
  },
  {
   "cell_type": "markdown",
   "id": "b9fa8ed5-904f-486c-8c12-405747108a16",
   "metadata": {},
   "source": [
    "# Modifying string"
   ]
  },
  {
   "cell_type": "code",
   "execution_count": 10,
   "id": "8b62938c-35a2-4f5a-91db-a42c1d388254",
   "metadata": {},
   "outputs": [
    {
     "name": "stdout",
     "output_type": "stream",
     "text": [
      "HI, AJEY HOW ARE YOU\n",
      "hi, ajey how are you\n",
      "Hi, Ajey how are you\n",
      "Hi, Ejey how are you\n",
      "['Hi,', 'Ajey', 'how', 'are', 'you']\n"
     ]
    }
   ],
   "source": [
    "a=\"Hi, Ajey how are you\"\n",
    "print(a.upper())\n",
    "print(a.lower())\n",
    "print(a.strip()) #strip() method removes any whitespace from the beginning or the end:\n",
    "print(a.replace(\"A\",\"E\"))\n",
    "print(a.split(\" \")) #The split() method returns a list where the text between the specified separator becomes the list items."
   ]
  },
  {
   "cell_type": "markdown",
   "id": "acc826b6-b1ee-48eb-ba89-c893c088f92a",
   "metadata": {},
   "source": [
    "# String Concatenation"
   ]
  },
  {
   "cell_type": "code",
   "execution_count": 16,
   "id": "7bc28675-3d0a-4728-841d-9837d0ecb657",
   "metadata": {},
   "outputs": [
    {
     "name": "stdout",
     "output_type": "stream",
     "text": [
      "Heloo Janhvii\n",
      "HelooJanhvii\n"
     ]
    }
   ],
   "source": [
    "a=\"Heloo\"\n",
    "b=\"Janhvii\"\n",
    "c= a+b\n",
    "d=a+\" \"+b\n",
    "print(a+\" \" + b)\n",
    "print(a+b)"
   ]
  },
  {
   "cell_type": "markdown",
   "id": "4492d6bd-7796-4d90-b324-365d86aa1407",
   "metadata": {},
   "source": [
    "# Format String"
   ]
  },
  {
   "cell_type": "code",
   "execution_count": 21,
   "id": "8b16ae51-57b1-4d3e-a123-1a8bcbed9458",
   "metadata": {},
   "outputs": [
    {
     "name": "stdout",
     "output_type": "stream",
     "text": [
      "Hii, I'm Ekta 23 years old\n",
      "Total price is 58.00 rupees\n"
     ]
    }
   ],
   "source": [
    "# f-string\n",
    "age=23\n",
    "print(f\"Hii, I'm Ekta {age} years old\")\n",
    "price=58\n",
    "print(f\"Total price is {price:.2f} rupees\")"
   ]
  },
  {
   "cell_type": "markdown",
   "id": "77cc7156-c894-4e5a-b234-8ed4d6970240",
   "metadata": {},
   "source": [
    "# Escape characters"
   ]
  },
  {
   "cell_type": "code",
   "execution_count": 24,
   "id": "1081e7af-333e-41a0-8c21-450195ef9852",
   "metadata": {},
   "outputs": [
    {
     "name": "stdout",
     "output_type": "stream",
     "text": [
      "It's a beautiful day!\n",
      "This is a backslash: \\\n",
      "Hello\n",
      "World\n",
      "World\n",
      "Name:\tEkta\n",
      "HellWorld\n",
      "Hello\f",
      "World\n",
      "Octal example: Hello\n",
      "Hex example: Hello\n"
     ]
    }
   ],
   "source": [
    "# Escape Sequence Practice Example\n",
    "\n",
    "# 1. Single Quote\n",
    "print('It\\'s a beautiful day!')  # Escapes the single quote\n",
    "\n",
    "# 2. Backslash\n",
    "print(\"This is a backslash: \\\\\")  # Prints a single backslash\n",
    "\n",
    "# 3. New Line\n",
    "print(\"Hello\\nWorld\")  # Moves text to a new line\n",
    "\n",
    "# 4. Carriage Return\n",
    "print(\"Hello\\rWorld\")  # 'World' overwrites 'Hello' (depends on console behavior)\n",
    "\n",
    "# 5. Tab\n",
    "print(\"Name:\\tEkta\")  # Inserts a tab space\n",
    "\n",
    "# 6. Backspace\n",
    "print(\"Hello\\bWorld\")  # Removes the previous character before 'b'\n",
    "\n",
    "# 7. Form Feed\n",
    "print(\"Hello\\fWorld\")  # Moves to a new line (form feed)\n",
    "\n",
    "# 8. Octal Value\n",
    "print(\"Octal example: \\110\\145\\154\\154\\157\")  # 'Hello' in octal ASCII codes\n",
    "\n",
    "# 9. Hex Value\n",
    "print(\"Hex example: \\x48\\x65\\x6C\\x6C\\x6F\")  # 'Hello' in hexadecimal ASCII codes\n"
   ]
  },
  {
   "cell_type": "markdown",
   "id": "cbac0c0c-8c0c-49ea-9b30-3ea9a7de6171",
   "metadata": {},
   "source": [
    "# String Methods"
   ]
  },
  {
   "cell_type": "code",
   "execution_count": 26,
   "id": "b41987e2-ad46-450a-84a7-ac1307ad59bd",
   "metadata": {},
   "outputs": [
    {
     "name": "stdout",
     "output_type": "stream",
     "text": [
      "1. capitalize(): Hello world\n",
      "2. casefold(): hello\n",
      "3. center(): ----hello world-----\n",
      "4. count(): 3\n",
      "5. encode(): b'hello world'\n",
      "6. endswith(): True\n",
      "7. expandtabs(): H   E   L   L   O\n",
      "8. find(): 6\n",
      "9. format(): My name is Ekta\n",
      "10. format_map(): Name: Ekta, Age: 25\n",
      "11. index(): 6\n",
      "12. isalnum(): True\n",
      "13. isalpha(): True\n",
      "14. isascii(): True\n",
      "15. isdecimal(): True\n",
      "16. isdigit(): True\n",
      "17. isidentifier(): True\n",
      "18. islower(): True\n",
      "19. isnumeric(): True\n",
      "20. isprintable(): True\n",
      "21. isspace(): True\n",
      "22. istitle(): True\n",
      "23. isupper(): True\n",
      "24. join(): A-B-C\n",
      "25. ljust(): hello world****\n",
      "26. lower(): hello\n",
      "27. lstrip(): python  \n",
      "28. maketrans() and translate():\n",
      "    h2ll4 w4rld\n",
      "29. partition(): ('hello', ' ', 'world')\n",
      "30. replace(): hello Python\n",
      "31. rfind(): 9\n",
      "32. rindex(): 9\n",
      "33. rjust(): ---------hello world\n",
      "34. rpartition(): ('hello', ' ', 'world')\n",
      "35. rsplit(): ['hello', 'world']\n",
      "36. rstrip():    python\n",
      "37. split(): ['hello', 'world']\n",
      "38. splitlines(): ['Line1', 'Line2', 'Line3']\n",
      "39. startswith(): True\n",
      "40. strip(): python\n",
      "41. swapcase(): hEllO\n",
      "42. title(): Hello World\n",
      "43. upper(): HELLO WORLD\n",
      "44. zfill(): 00042\n"
     ]
    }
   ],
   "source": [
    "# STRING METHODS PRACTICE EXAMPLES\n",
    "\n",
    "text = \"hello world\"\n",
    "text2 = \"   python  \"\n",
    "num_text = \"12345\"\n",
    "mix_text = \"Hello123\"\n",
    "multi_line = \"Line1\\nLine2\\nLine3\"\n",
    "\n",
    "print(\"1. capitalize():\", text.capitalize())\n",
    "\n",
    "print(\"2. casefold():\", \"HELLO\".casefold())\n",
    "\n",
    "print(\"3. center():\", text.center(20, \"-\"))\n",
    "\n",
    "print(\"4. count():\", text.count(\"l\"))\n",
    "\n",
    "print(\"5. encode():\", text.encode())\n",
    "\n",
    "print(\"6. endswith():\", text.endswith(\"world\"))\n",
    "\n",
    "print(\"7. expandtabs():\", \"H\\tE\\tL\\tL\\tO\".expandtabs(4))\n",
    "\n",
    "print(\"8. find():\", text.find(\"world\"))\n",
    "\n",
    "print(\"9. format():\", \"My name is {}\".format(\"Ekta\"))\n",
    "\n",
    "data = {\"name\": \"Ekta\", \"age\": 25}\n",
    "print(\"10. format_map():\", \"Name: {name}, Age: {age}\".format_map(data))\n",
    "\n",
    "print(\"11. index():\", text.index(\"world\"))\n",
    "\n",
    "print(\"12. isalnum():\", mix_text.isalnum())\n",
    "\n",
    "print(\"13. isalpha():\", \"Hello\".isalpha())\n",
    "\n",
    "print(\"14. isascii():\", \"Hello123\".isascii())\n",
    "\n",
    "print(\"15. isdecimal():\", num_text.isdecimal())\n",
    "\n",
    "print(\"16. isdigit():\", num_text.isdigit())\n",
    "\n",
    "print(\"17. isidentifier():\", \"variable1\".isidentifier())\n",
    "\n",
    "print(\"18. islower():\", text.islower())\n",
    "\n",
    "print(\"19. isnumeric():\", num_text.isnumeric())\n",
    "\n",
    "print(\"20. isprintable():\", \"Hello!\".isprintable())\n",
    "\n",
    "print(\"21. isspace():\", \"   \".isspace())\n",
    "\n",
    "print(\"22. istitle():\", \"Hello World\".istitle())\n",
    "\n",
    "print(\"23. isupper():\", \"HELLO\".isupper())\n",
    "\n",
    "print(\"24. join():\", \"-\".join([\"A\", \"B\", \"C\"]))\n",
    "\n",
    "print(\"25. ljust():\", text.ljust(15, \"*\"))\n",
    "\n",
    "print(\"26. lower():\", \"HELLO\".lower())\n",
    "\n",
    "print(\"27. lstrip():\", text2.lstrip())\n",
    "\n",
    "print(\"28. maketrans() and translate():\")\n",
    "trans = str.maketrans(\"aeiou\", \"12345\")\n",
    "print(\"   \", text.translate(trans))\n",
    "\n",
    "print(\"29. partition():\", text.partition(\" \"))\n",
    "\n",
    "print(\"30. replace():\", text.replace(\"world\", \"Python\"))\n",
    "\n",
    "print(\"31. rfind():\", text.rfind(\"l\"))\n",
    "\n",
    "print(\"32. rindex():\", text.rindex(\"l\"))\n",
    "\n",
    "print(\"33. rjust():\", text.rjust(20, \"-\"))\n",
    "\n",
    "print(\"34. rpartition():\", text.rpartition(\" \"))\n",
    "\n",
    "print(\"35. rsplit():\", text.rsplit(\" \"))\n",
    "\n",
    "print(\"36. rstrip():\", text2.rstrip())\n",
    "\n",
    "print(\"37. split():\", text.split(\" \"))\n",
    "\n",
    "print(\"38. splitlines():\", multi_line.splitlines())\n",
    "\n",
    "print(\"39. startswith():\", text.startswith(\"hello\"))\n",
    "\n",
    "print(\"40. strip():\", text2.strip())\n",
    "\n",
    "print(\"41. swapcase():\", \"HeLLo\".swapcase())\n",
    "\n",
    "print(\"42. title():\", text.title())\n",
    "\n",
    "print(\"43. upper():\", text.upper())\n",
    "\n",
    "print(\"44. zfill():\", \"42\".zfill(5))\n"
   ]
  },
  {
   "cell_type": "code",
   "execution_count": null,
   "id": "4fb3aff7-be69-47c1-a172-ec91db40eee2",
   "metadata": {},
   "outputs": [],
   "source": []
  }
 ],
 "metadata": {
  "kernelspec": {
   "display_name": "Python [conda env:base] *",
   "language": "python",
   "name": "conda-base-py"
  },
  "language_info": {
   "codemirror_mode": {
    "name": "ipython",
    "version": 3
   },
   "file_extension": ".py",
   "mimetype": "text/x-python",
   "name": "python",
   "nbconvert_exporter": "python",
   "pygments_lexer": "ipython3",
   "version": "3.13.5"
  }
 },
 "nbformat": 4,
 "nbformat_minor": 5
}
