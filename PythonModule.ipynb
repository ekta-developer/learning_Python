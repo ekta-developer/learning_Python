{
 "cells": [
  {
   "cell_type": "markdown",
   "id": "f55ec111-810d-4d14-84a1-bfa59cc930cf",
   "metadata": {},
   "source": [
    "# Python Modules"
   ]
  },
  {
   "cell_type": "code",
   "execution_count": 2,
   "id": "cbbd14cd-6eda-4405-9e26-b64fb2e315e7",
   "metadata": {},
   "outputs": [],
   "source": [
    "#Consider a module to be the same as a code library.\n",
    "#file containing a set of functions you want to include in your application."
   ]
  },
  {
   "cell_type": "markdown",
   "id": "baae82b7-bfdc-49ea-965c-5a220abbf824",
   "metadata": {},
   "source": [
    "# Create a Modules\n"
   ]
  },
  {
   "cell_type": "code",
   "execution_count": 3,
   "id": "78818b18-cce6-494f-b371-efc73d02a696",
   "metadata": {},
   "outputs": [],
   "source": [
    "#To create a module just save the code you want in a file with the file extension .py:"
   ]
  },
  {
   "cell_type": "markdown",
   "id": "2462dbac-30d8-4586-8dab-24f5902faa52",
   "metadata": {},
   "source": [
    "# Use a Module"
   ]
  },
  {
   "cell_type": "code",
   "execution_count": null,
   "id": "51bbeb7e-2fc8-4453-8741-956cdb52bb57",
   "metadata": {},
   "outputs": [],
   "source": [
    "#Now we can use the module we just created, by using the import statement:\n"
   ]
  },
  {
   "cell_type": "markdown",
   "id": "441caad8-1590-4400-a606-edbbe0df0451",
   "metadata": {},
   "source": [
    "# Variables in Module"
   ]
  },
  {
   "cell_type": "code",
   "execution_count": 5,
   "id": "0e37c3c6-c850-4c41-9c1d-4ec280980cad",
   "metadata": {},
   "outputs": [],
   "source": [
    "#Save this code in the file mymodule.py\n",
    "\n",
    "person1 = {\n",
    "  \"name\": \"John\",\n",
    "  \"age\": 36,\n",
    "  \"country\": \"Norway\"\n",
    "}"
   ]
  },
  {
   "cell_type": "code",
   "execution_count": 6,
   "id": "65d98715-fdfe-4f6d-9053-03f974d27626",
   "metadata": {},
   "outputs": [],
   "source": [
    "#Naming a Module"
   ]
  },
  {
   "cell_type": "code",
   "execution_count": 7,
   "id": "73885243-7ee9-4a8a-8f8b-a353be8c34c5",
   "metadata": {},
   "outputs": [],
   "source": [
    "#Re-naming a ModuleYou can create an alias when you import a module, by using the as keyword:"
   ]
  },
  {
   "cell_type": "code",
   "execution_count": 8,
   "id": "4c33032c-8b1e-4dea-90f0-c7df76b4c047",
   "metadata": {},
   "outputs": [],
   "source": [
    "#Built-in Modules"
   ]
  },
  {
   "cell_type": "markdown",
   "id": "c8239612-f65a-4b1e-a040-00a17e604bd5",
   "metadata": {},
   "source": [
    "# Naming  in Module\n",
    "\n",
    "You can name the module file whatever you like, but it must have the file extension .py"
   ]
  },
  {
   "cell_type": "markdown",
   "id": "26776a89-2f7f-4a2e-b17f-9e3c9d8f0ad3",
   "metadata": {},
   "source": [
    "# Re-naming a Module\n",
    "\n",
    "Re-naming a ModuleYou can create an alias when you import a module, by using the as keyword:"
   ]
  },
  {
   "cell_type": "markdown",
   "id": "c65981a9-58d9-4466-9621-f8e57ccb8cda",
   "metadata": {},
   "source": [
    "# Built-in Modules\n",
    "\n",
    "There are several built-in modules in Python, which you can import whenever you like."
   ]
  },
  {
   "cell_type": "markdown",
   "id": "42b727f0-202b-4b14-9486-94f5f0097191",
   "metadata": {},
   "source": [
    "# Using the dir() Function\n",
    "\n",
    "There is a built-in function to list all the function names (or variable names) in a module. The dir() function:"
   ]
  },
  {
   "cell_type": "markdown",
   "id": "9ec4649f-bbd5-4db8-85ea-4dbf61d4a5c3",
   "metadata": {},
   "source": [
    "# Import From Module\n",
    "\n",
    "You can choose to import only parts from a module, by using the from keyword."
   ]
  },
  {
   "cell_type": "markdown",
   "id": "3431f3c2-89eb-458d-a5cd-2cd4f70ea9e6",
   "metadata": {},
   "source": [
    "# Python datetime"
   ]
  },
  {
   "cell_type": "markdown",
   "id": "efb07870-6977-42b2-857e-83daa8525bc6",
   "metadata": {},
   "source": [
    "# Python Dates"
   ]
  },
  {
   "cell_type": "code",
   "execution_count": 9,
   "id": "06a0830a-c3d5-4090-904c-19ecacbd1d4c",
   "metadata": {},
   "outputs": [],
   "source": [
    "#A date in Python is not a data type of its own, but we can import a module named datetime to work with dates as date objects."
   ]
  },
  {
   "cell_type": "code",
   "execution_count": 10,
   "id": "0a9d65ae-942e-4882-8105-e0d6d5c7db0e",
   "metadata": {},
   "outputs": [
    {
     "name": "stdout",
     "output_type": "stream",
     "text": [
      "2025-10-16 16:43:50.486858\n"
     ]
    }
   ],
   "source": [
    "import datetime\n",
    "x=datetime.datetime.now()\n",
    "print(x)"
   ]
  },
  {
   "cell_type": "code",
   "execution_count": null,
   "id": "65674353-fec5-4a62-b18d-69ef4d4b4769",
   "metadata": {},
   "outputs": [],
   "source": [
    "Directive\tDescription\tExample\tTry it\n",
    "%a\tWeekday, short version\tWed\t\n",
    "%A\tWeekday, full version\tWednesday\t\n",
    "%w\tWeekday as a number 0-6, 0 is Sunday\t3\t\n",
    "%d\tDay of month 01-31\t31\t\n",
    "%b\tMonth name, short version\tDec\t\n",
    "%B\tMonth name, full version\tDecember\t\n",
    "%m\tMonth as a number 01-12\t12\t\n",
    "%y\tYear, short version, without century\t18\t\n",
    "%Y\tYear, full version\t2018\t\n",
    "%H\tHour 00-23\t17\t\n",
    "%I\tHour 00-12\t05\t\n",
    "%p\tAM/PM\tPM\t\n",
    "%M\tMinute 00-59\t41\t\n",
    "%S\tSecond 00-59\t08\t\n",
    "%f\tMicrosecond 000000-999999\t548513\t\n",
    "%z\tUTC offset\t+0100\t\n",
    "%Z\tTimezone\tCST\t\n",
    "%j\tDay number of year 001-366\t365\t\n",
    "%U\tWeek number of year, Sunday as the first day of week, 00-53\t52\t\n",
    "%W\tWeek number of year, Monday as the first day of week, 00-53\t52\t\n",
    "%c\tLocal version of date and time\tMon Dec 31 17:41:00 2018\t\n",
    "%C\tCentury\t20\t\n",
    "%x\tLocal version of date\t12/31/18\t\n",
    "%X\tLocal version of time\t17:41:00\t\n",
    "%%\tA % character\t%\t\n",
    "%G\tISO 8601 year\t2018\t\n",
    "%u\tISO 8601 weekday (1-7)\t1\t\n",
    "%V\tISO 8601 weeknumber (01-53)\t01"
   ]
  }
 ],
 "metadata": {
  "kernelspec": {
   "display_name": "Python [conda env:base] *",
   "language": "python",
   "name": "conda-base-py"
  },
  "language_info": {
   "codemirror_mode": {
    "name": "ipython",
    "version": 3
   },
   "file_extension": ".py",
   "mimetype": "text/x-python",
   "name": "python",
   "nbconvert_exporter": "python",
   "pygments_lexer": "ipython3",
   "version": "3.13.5"
  }
 },
 "nbformat": 4,
 "nbformat_minor": 5
}
