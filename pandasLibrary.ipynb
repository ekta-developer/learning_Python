{
 "cells": [
  {
   "cell_type": "code",
   "execution_count": 1,
   "id": "379876d7-65ed-43ce-9ec2-b2e6026cbe60",
   "metadata": {},
   "outputs": [
    {
     "name": "stdout",
     "output_type": "stream",
     "text": [
      "2.3.2\n"
     ]
    }
   ],
   "source": [
    "import pandas as pd\n",
    "print(pd.__version__)"
   ]
  },
  {
   "cell_type": "code",
   "execution_count": 5,
   "id": "386ec58b-cc51-4fd8-807d-2d08dc2a0485",
   "metadata": {},
   "outputs": [
    {
     "name": "stdout",
     "output_type": "stream",
     "text": [
      "Student data are as follows:\n",
      "\n",
      "   student  rank  marks\n",
      "0    Amit     1     23\n",
      "1   Sunju     2     54\n",
      "2  Devwil     3     76\n"
     ]
    }
   ],
   "source": [
    "data={\n",
    "    'student':[\"Amit\",\"Sunju\",\"Devwil\"],\n",
    "    'rank':[1,2,3],\n",
    "    'marks':[23,54,76]\n",
    "}\n",
    "res=pd.DataFrame(data)\n",
    "print(\"Student data are as follows:\\n\\n\",res)\n",
    "      "
   ]
  },
  {
   "cell_type": "code",
   "execution_count": null,
   "id": "cc3b7bb1-2ce0-47ae-8bac-7a0364dfa414",
   "metadata": {},
   "outputs": [],
   "source": []
  }
 ],
 "metadata": {
  "kernelspec": {
   "display_name": "Python [conda env:base] *",
   "language": "python",
   "name": "conda-base-py"
  },
  "language_info": {
   "codemirror_mode": {
    "name": "ipython",
    "version": 3
   },
   "file_extension": ".py",
   "mimetype": "text/x-python",
   "name": "python",
   "nbconvert_exporter": "python",
   "pygments_lexer": "ipython3",
   "version": "3.13.5"
  }
 },
 "nbformat": 4,
 "nbformat_minor": 5
}
