{
 "cells": [
  {
   "cell_type": "markdown",
   "id": "47de2eee-61c0-48a3-9ce9-646e3780c0ab",
   "metadata": {},
   "source": [
    "# Python If... Else\n"
   ]
  },
  {
   "cell_type": "code",
   "execution_count": 5,
   "id": "bf214e01-1334-4dd2-a821-e269eb412d40",
   "metadata": {},
   "outputs": [
    {
     "name": "stdout",
     "output_type": "stream",
     "text": [
      "A is greater than B\n"
     ]
    }
   ],
   "source": [
    "a=89\n",
    "b=8\n",
    "if a > b:\n",
    "  print(\"A is greater than B\")"
   ]
  },
  {
   "cell_type": "markdown",
   "id": "608fbfa7-b484-49ee-80ad-8229758b4319",
   "metadata": {},
   "source": [
    "# Python Elif\n"
   ]
  },
  {
   "cell_type": "code",
   "execution_count": 6,
   "id": "d3900405-5050-4616-881a-c24683388e22",
   "metadata": {},
   "outputs": [
    {
     "name": "stdout",
     "output_type": "stream",
     "text": [
      "A is greater then B\n"
     ]
    }
   ],
   "source": [
    "a=89\n",
    "b=67\n",
    "if a > b:\n",
    "   print(\"A is greater then B\")\n",
    "elif a == b:\n",
    "    print(\"A is equals to B\")"
   ]
  },
  {
   "cell_type": "markdown",
   "id": "fc1ef089-bb5d-4456-b099-d9208b55195c",
   "metadata": {},
   "source": [
    "# Python Else"
   ]
  },
  {
   "cell_type": "code",
   "execution_count": 7,
   "id": "e48d6176-56bf-44e6-81ab-e6891848cc44",
   "metadata": {},
   "outputs": [
    {
     "name": "stdout",
     "output_type": "stream",
     "text": [
      "B  is greater than A\n"
     ]
    }
   ],
   "source": [
    "a=67\n",
    "b=98\n",
    "if a > b:\n",
    "   print(\"A is greater then B\")\n",
    "elif a == b:\n",
    "    print(\"A is equals to B\")\n",
    "else:\n",
    "    print(\"B  is greater than A\")"
   ]
  },
  {
   "cell_type": "markdown",
   "id": "c550ffc3-4323-496d-9d1f-40dd0072ae67",
   "metadata": {},
   "source": [
    "# Short hand If\n"
   ]
  },
  {
   "cell_type": "code",
   "execution_count": 8,
   "id": "f2640c5d-56d2-4a0c-aefd-a71e8d03710f",
   "metadata": {},
   "outputs": [],
   "source": [
    "if a > b : print(\"A is greater than B\")"
   ]
  },
  {
   "cell_type": "markdown",
   "id": "b09b2120-bd52-4286-af4a-c9af1b85a26d",
   "metadata": {},
   "source": [
    "# Short Hand If ... Else\n"
   ]
  },
  {
   "cell_type": "code",
   "execution_count": 9,
   "id": "425839b8-a116-477e-8fd6-929b6469796e",
   "metadata": {},
   "outputs": [
    {
     "name": "stdout",
     "output_type": "stream",
     "text": [
      "B is greater than A\n"
     ]
    }
   ],
   "source": [
    "print(\"A is greater than B\") if a > b else print(\"B is greater than A\")"
   ]
  },
  {
   "cell_type": "markdown",
   "id": "c45394a5-17d0-48ef-b783-9817716c70ba",
   "metadata": {},
   "source": [
    "# Logical AND , OR and NOT"
   ]
  },
  {
   "cell_type": "code",
   "execution_count": 10,
   "id": "0f7e5bf2-77c1-4d25-934c-e5820bd4fc4e",
   "metadata": {},
   "outputs": [
    {
     "name": "stdout",
     "output_type": "stream",
     "text": [
      "Both conditions are True\n"
     ]
    }
   ],
   "source": [
    "a = 200\n",
    "b = 33\n",
    "c = 500\n",
    "if a > b and c > a:\n",
    "  print(\"Both conditions are True\")"
   ]
  },
  {
   "cell_type": "code",
   "execution_count": 11,
   "id": "b0d5f4da-b0a4-48ec-87a9-da4b65d431e3",
   "metadata": {},
   "outputs": [
    {
     "name": "stdout",
     "output_type": "stream",
     "text": [
      "Both conditions are True\n"
     ]
    }
   ],
   "source": [
    "a = 200\n",
    "b = 33\n",
    "c = 500\n",
    "if a > b or c > a:\n",
    "  print(\"Both conditions are True\")"
   ]
  },
  {
   "cell_type": "code",
   "execution_count": 12,
   "id": "51a1af89-5f9b-4f37-87da-5a95d8d3838c",
   "metadata": {},
   "outputs": [
    {
     "name": "stdout",
     "output_type": "stream",
     "text": [
      "a is NOT greater than b\n"
     ]
    }
   ],
   "source": [
    "a = 33\n",
    "b = 200\n",
    "if not a > b:\n",
    "  print(\"a is NOT greater than b\")"
   ]
  },
  {
   "cell_type": "code",
   "execution_count": 15,
   "id": "c76ce4e1-ff28-4b61-a231-0d5ce16c24c6",
   "metadata": {},
   "outputs": [
    {
     "name": "stdout",
     "output_type": "stream",
     "text": [
      "Above ten,\n",
      "but not above 20.\n"
     ]
    }
   ],
   "source": [
    "x = 15\n",
    "\n",
    "if x > 10:\n",
    "  print(\"Above ten,\")\n",
    "  if x > 20:\n",
    "    print(\"and also above 20!\")\n",
    "  else:\n",
    "    print(\"but not above 20.\")"
   ]
  },
  {
   "cell_type": "markdown",
   "id": "703ed929-8bdf-4e93-8f5f-2150e1766439",
   "metadata": {},
   "source": [
    "# The pass statement\n",
    "# if statements cannot be empty, but if you for some reason have an if stat"
   ]
  },
  {
   "cell_type": "code",
   "execution_count": 16,
   "id": "0d9f9487-62ec-4817-b8bd-510d79099aa2",
   "metadata": {},
   "outputs": [],
   "source": [
    "a = 33\n",
    "b = 200\n",
    "\n",
    "if b > a:\n",
    "  pass"
   ]
  },
  {
   "cell_type": "code",
   "execution_count": null,
   "id": "b348b23e-f54d-4988-bff3-f7adfa6f36c1",
   "metadata": {},
   "outputs": [],
   "source": []
  }
 ],
 "metadata": {
  "kernelspec": {
   "display_name": "Python [conda env:base] *",
   "language": "python",
   "name": "conda-base-py"
  },
  "language_info": {
   "codemirror_mode": {
    "name": "ipython",
    "version": 3
   },
   "file_extension": ".py",
   "mimetype": "text/x-python",
   "name": "python",
   "nbconvert_exporter": "python",
   "pygments_lexer": "ipython3",
   "version": "3.13.5"
  }
 },
 "nbformat": 4,
 "nbformat_minor": 5
}
