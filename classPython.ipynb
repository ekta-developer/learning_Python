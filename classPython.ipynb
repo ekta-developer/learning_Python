{
 "cells": [
  {
   "cell_type": "markdown",
   "id": "f7379ad7-b94f-41c3-9a03-d40f41000632",
   "metadata": {},
   "source": [
    "# Python Class"
   ]
  },
  {
   "cell_type": "markdown",
   "id": "c97d5af8-4797-4ff2-80ee-c97036f87a43",
   "metadata": {},
   "source": [
    "# Create a class"
   ]
  },
  {
   "cell_type": "code",
   "execution_count": 3,
   "id": "30868a38-6e7a-4fe5-9e49-e3c597204f7c",
   "metadata": {},
   "outputs": [
    {
     "name": "stdout",
     "output_type": "stream",
     "text": [
      "Hello\n"
     ]
    }
   ],
   "source": [
    "#Python is an object oriented programming language.\n",
    "#Almost everything in Python is an object, with its properties and methods.\n",
    "\n",
    "class myClass:\n",
    " print (\"Hello\")"
   ]
  },
  {
   "cell_type": "markdown",
   "id": "e49bcc03-168a-40e7-b5a1-0f9238ca9eef",
   "metadata": {},
   "source": [
    "# Create an Object"
   ]
  },
  {
   "cell_type": "code",
   "execution_count": 8,
   "id": "3bb8cb5f-2abc-476f-9651-e4f5bca0c016",
   "metadata": {},
   "outputs": [
    {
     "name": "stdout",
     "output_type": "stream",
     "text": [
      "hiii\n"
     ]
    }
   ],
   "source": [
    "class MyClass:\n",
    "    p1 = \"hiii\"\n",
    "\n",
    "print(MyClass.p1)"
   ]
  },
  {
   "cell_type": "markdown",
   "id": "a0449ae9-6213-447a-9ffd-02fd569b0638",
   "metadata": {},
   "source": [
    "# The __init__() Method"
   ]
  },
  {
   "cell_type": "code",
   "execution_count": 13,
   "id": "88c1130e-00eb-4a8a-9097-05a13602afd4",
   "metadata": {},
   "outputs": [
    {
     "name": "stdout",
     "output_type": "stream",
     "text": [
      "Ekta\n",
      "23\n"
     ]
    }
   ],
   "source": [
    "#All classes have a method called __init__(), which is always executed when the class is being initiated.\n",
    "#creating a class\n",
    "class Person:\n",
    " def __init__(self,name,age):\n",
    "     self.name=name\n",
    "     self.age=age\n",
    "#call class with an object\n",
    "p1=Person(\"Ekta\",23)\n",
    "\n",
    "print(p1.name)\n",
    "print(p1.age)\n"
   ]
  },
  {
   "cell_type": "markdown",
   "id": "2ed075fb-00d5-4d4a-a5d2-4138310c8cff",
   "metadata": {},
   "source": [
    "# The __str__() Method"
   ]
  },
  {
   "cell_type": "code",
   "execution_count": 18,
   "id": "1eea7a04-c37f-4ada-8204-ba519291030a",
   "metadata": {},
   "outputs": [
    {
     "name": "stdout",
     "output_type": "stream",
     "text": [
      "Abhay(56)\n"
     ]
    }
   ],
   "source": [
    "#The __str__() method controls what should be returned when the class object is represented as a string.\n",
    "class Person:\n",
    " def __init__(self,name,age):\n",
    "    self.name=name\n",
    "    self.age=age\n",
    "\n",
    " def __str__(self):\n",
    "    return f\"{self.name}({self.age})\"\n",
    "p1=Person(\"Abhay\", 56)\n",
    "\n",
    "print(p1)"
   ]
  },
  {
   "cell_type": "markdown",
   "id": "9577b915-c06b-4425-a079-2beac29c830c",
   "metadata": {},
   "source": [
    "# Create Method"
   ]
  },
  {
   "cell_type": "code",
   "execution_count": 24,
   "id": "73c543cc-4670-433b-b115-6c0d3fbfb542",
   "metadata": {},
   "outputs": [
    {
     "name": "stdout",
     "output_type": "stream",
     "text": [
      "This person name is:Ekta\n"
     ]
    }
   ],
   "source": [
    "class Person:\n",
    " def __init__(self,name,age):\n",
    "    self.name=name\n",
    "    self.age=age\n",
    "\n",
    " def myFunction(self):\n",
    "        print(\"This person name is:\"+ self.name)\n",
    "\n",
    "p1=Person(\"Ekta\",23)\n",
    "p1.myFunction()"
   ]
  },
  {
   "cell_type": "markdown",
   "id": "51e4fce7-3f86-4243-a28c-9eeee106aa3a",
   "metadata": {},
   "source": [
    "# The self parameter"
   ]
  },
  {
   "cell_type": "code",
   "execution_count": 25,
   "id": "447b7c49-15cb-40a1-9925-1e3669717adb",
   "metadata": {},
   "outputs": [
    {
     "name": "stdout",
     "output_type": "stream",
     "text": [
      "Hello my name is John\n"
     ]
    }
   ],
   "source": [
    "#The self parameter is a reference to the current instance of the class, and is used to access variables that belong to the class.\n",
    "class Person:\n",
    "  def __init__(mysillyobject, name, age):\n",
    "    mysillyobject.name = name\n",
    "    mysillyobject.age = age\n",
    "\n",
    "  def myfunc(abc):\n",
    "    print(\"Hello my name is \" + abc.name)\n",
    "\n",
    "p1 = Person(\"John\", 36)\n",
    "p1.myfunc()"
   ]
  },
  {
   "cell_type": "markdown",
   "id": "0b41908a-63b2-4a78-8c76-180d6601176e",
   "metadata": {},
   "source": [
    "# ModifyObject Properties"
   ]
  },
  {
   "cell_type": "code",
   "execution_count": 26,
   "id": "53cd541b-e4dc-466b-b77c-cd20f63c67c3",
   "metadata": {},
   "outputs": [],
   "source": [
    "p1.age = 40"
   ]
  },
  {
   "cell_type": "markdown",
   "id": "af62846a-323c-4e32-82e7-f174bd75aea2",
   "metadata": {},
   "source": [
    "# Delete Object Properties"
   ]
  },
  {
   "cell_type": "code",
   "execution_count": 27,
   "id": "a7f2ca9b-41c8-4175-a1f3-6bea7eaddebf",
   "metadata": {},
   "outputs": [],
   "source": [
    "del p1.age"
   ]
  },
  {
   "cell_type": "markdown",
   "id": "82978cae-d896-4a7d-974d-1ded0d870c99",
   "metadata": {},
   "source": [
    "# Delete Object Properties"
   ]
  },
  {
   "cell_type": "code",
   "execution_count": 28,
   "id": "63d1dd0e-472b-41e0-bc83-8971d0779c42",
   "metadata": {},
   "outputs": [
    {
     "ename": "AttributeError",
     "evalue": "'Person' object has no attribute 'age'",
     "output_type": "error",
     "traceback": [
      "\u001b[31m---------------------------------------------------------------------------\u001b[39m",
      "\u001b[31mAttributeError\u001b[39m                            Traceback (most recent call last)",
      "\u001b[36mCell\u001b[39m\u001b[36m \u001b[39m\u001b[32mIn[28]\u001b[39m\u001b[32m, line 1\u001b[39m\n\u001b[32m----> \u001b[39m\u001b[32m1\u001b[39m \u001b[38;5;28;01mdel\u001b[39;00m \u001b[43mp1\u001b[49m\u001b[43m.\u001b[49m\u001b[43mage\u001b[49m\n",
      "\u001b[31mAttributeError\u001b[39m: 'Person' object has no attribute 'age'"
     ]
    }
   ],
   "source": [
    "del p1.age"
   ]
  },
  {
   "cell_type": "code",
   "execution_count": null,
   "id": "ccd77e2c-ccf5-4bfd-b9d0-4fbd82b11a6e",
   "metadata": {},
   "outputs": [],
   "source": []
  }
 ],
 "metadata": {
  "kernelspec": {
   "display_name": "Python [conda env:base] *",
   "language": "python",
   "name": "conda-base-py"
  },
  "language_info": {
   "codemirror_mode": {
    "name": "ipython",
    "version": 3
   },
   "file_extension": ".py",
   "mimetype": "text/x-python",
   "name": "python",
   "nbconvert_exporter": "python",
   "pygments_lexer": "ipython3",
   "version": "3.13.5"
  }
 },
 "nbformat": 4,
 "nbformat_minor": 5
}
