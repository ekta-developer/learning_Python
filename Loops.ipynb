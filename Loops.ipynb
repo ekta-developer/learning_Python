{
 "cells": [
  {
   "cell_type": "markdown",
   "id": "07b2cb3e-b27f-4acc-b061-da930ca7a5f8",
   "metadata": {},
   "source": [
    "# While\n",
    " while loop we can execute a set of statements as long as a condition is true.\n",
    "continue vs. break...........\n",
    "It's important to distinguish continue from break. The continue statement skips the current iteration and moves to the next, while the break statement terminates the entire loop prematurely. "
   ]
  },
  {
   "cell_type": "code",
   "execution_count": 1,
   "id": "13b73147-499b-4821-b362-3c1c0a5f8b0c",
   "metadata": {},
   "outputs": [
    {
     "name": "stdout",
     "output_type": "stream",
     "text": [
      "1\n",
      "2\n",
      "3\n",
      "4\n",
      "5\n"
     ]
    }
   ],
   "source": [
    "i = 1\n",
    "while i < 6:\n",
    "    print(i)\n",
    "    i += 1"
   ]
  },
  {
   "cell_type": "markdown",
   "id": "a00757e8-1021-48db-9450-0207b86d946d",
   "metadata": {},
   "source": [
    "# BREAK"
   ]
  },
  {
   "cell_type": "code",
   "execution_count": 5,
   "id": "c236de1e-3927-478a-b1ef-ad97ae43b95f",
   "metadata": {},
   "outputs": [
    {
     "name": "stdout",
     "output_type": "stream",
     "text": [
      "1\n",
      "2\n",
      "3\n"
     ]
    }
   ],
   "source": [
    "i = 1\n",
    "while i < 6:\n",
    "    print(i)\n",
    "    if i == 3:\n",
    "      break\n",
    "    i = i+1"
   ]
  },
  {
   "cell_type": "markdown",
   "id": "193eeb8b-1e28-487c-ae81-2d71af73b583",
   "metadata": {},
   "source": [
    "# CONTINUE"
   ]
  },
  {
   "cell_type": "code",
   "execution_count": 9,
   "id": "d44fd71c-4d67-4392-a10f-1316001b0a6c",
   "metadata": {},
   "outputs": [
    {
     "name": "stdout",
     "output_type": "stream",
     "text": [
      "2\n",
      "4\n",
      "5\n",
      "6\n"
     ]
    }
   ],
   "source": [
    "i=1\n",
    "while i < 6:\n",
    "    i=i+1\n",
    "    if i == 3:\n",
    "        continue\n",
    "    print(i)"
   ]
  },
  {
   "cell_type": "markdown",
   "id": "2ac7d8b1-af4b-4070-a119-1cbbc863d098",
   "metadata": {},
   "source": [
    "# The ELSE Statement"
   ]
  },
  {
   "cell_type": "code",
   "execution_count": 10,
   "id": "11914b62-734f-453b-bbc9-8e6b57063fea",
   "metadata": {},
   "outputs": [
    {
     "name": "stdout",
     "output_type": "stream",
     "text": [
      "1\n",
      "2\n",
      "3\n",
      "4\n",
      "5\n",
      "i is no longer less than 6\n"
     ]
    }
   ],
   "source": [
    "i = 1\n",
    "while i < 6:\n",
    "  print(i)\n",
    "  i += 1\n",
    "else:\n",
    "  print(\"i is no longer less than 6\")"
   ]
  },
  {
   "cell_type": "markdown",
   "id": "f483e630-3545-4c5f-95f7-c441ffc5d55e",
   "metadata": {},
   "source": [
    "# FOR Loop"
   ]
  },
  {
   "cell_type": "code",
   "execution_count": 11,
   "id": "c35c7524-7db2-4e62-960e-e02501aa15cb",
   "metadata": {},
   "outputs": [
    {
     "name": "stdout",
     "output_type": "stream",
     "text": [
      "apple\n",
      "banana\n",
      "cherry\n"
     ]
    }
   ],
   "source": [
    "fruits = [\"apple\", \"banana\", \"cherry\"]\n",
    "for x in fruits:\n",
    "    print(x)"
   ]
  },
  {
   "cell_type": "markdown",
   "id": "b73f352d-7785-4ebd-b259-8f8f0c52b74d",
   "metadata": {},
   "source": [
    "# Looping through a String"
   ]
  },
  {
   "cell_type": "code",
   "execution_count": 13,
   "id": "82b20f23-7e08-4636-b4a8-828e0e7622b3",
   "metadata": {},
   "outputs": [
    {
     "name": "stdout",
     "output_type": "stream",
     "text": [
      "B\n",
      "a\n",
      "n\n",
      "a\n",
      "n\n",
      "a\n"
     ]
    }
   ],
   "source": [
    "for x in \"Banana\":\n",
    "   print(x)"
   ]
  },
  {
   "cell_type": "markdown",
   "id": "07f0dd84-3353-4f6c-a0c4-cca2d5aeb8a2",
   "metadata": {},
   "source": [
    "# Break Statement"
   ]
  },
  {
   "cell_type": "code",
   "execution_count": 14,
   "id": "b0d4ddd1-df27-4338-a5ca-0882d25f01f3",
   "metadata": {},
   "outputs": [
    {
     "name": "stdout",
     "output_type": "stream",
     "text": [
      "apple\n",
      "banana\n"
     ]
    }
   ],
   "source": [
    "fruits = [\"apple\", \"banana\", \"cherry\"]\n",
    "for x in fruits:\n",
    "    print(x)\n",
    "    if x == \"banana\":\n",
    "        break"
   ]
  },
  {
   "cell_type": "markdown",
   "id": "74056e83-1f4f-4e55-946d-6714b5ffceaa",
   "metadata": {},
   "source": [
    "# Continue Statement"
   ]
  },
  {
   "cell_type": "code",
   "execution_count": 16,
   "id": "be77e269-c45b-4b00-9cc2-feb738aab184",
   "metadata": {},
   "outputs": [
    {
     "name": "stdout",
     "output_type": "stream",
     "text": [
      "apple\n",
      "cherry\n"
     ]
    }
   ],
   "source": [
    "fruits = [\"apple\", \"banana\", \"cherry\"]\n",
    "for x in fruits:\n",
    "    if x == \"banana\":\n",
    "        continue\n",
    "    print(x)"
   ]
  },
  {
   "cell_type": "markdown",
   "id": "a1638660-785e-47d5-8678-f20c03f0c17a",
   "metadata": {},
   "source": [
    "# Range() function"
   ]
  },
  {
   "cell_type": "code",
   "execution_count": 18,
   "id": "0718ea41-9811-4bed-bc2d-0e56f84edf6a",
   "metadata": {},
   "outputs": [
    {
     "name": "stdout",
     "output_type": "stream",
     "text": [
      "0\n",
      "1\n",
      "2\n",
      "3\n",
      "4\n",
      "5\n"
     ]
    }
   ],
   "source": [
    "for x in range(6):\n",
    "    print(x)"
   ]
  },
  {
   "cell_type": "code",
   "execution_count": 20,
   "id": "e73fc123-4e0c-472d-9095-5330610cf0e4",
   "metadata": {},
   "outputs": [
    {
     "name": "stdout",
     "output_type": "stream",
     "text": [
      "2\n",
      "3\n",
      "4\n",
      "5\n"
     ]
    }
   ],
   "source": [
    "# in 2 parameter include from 1st one to last excluding last value\n",
    "for x in range(2, 6):\n",
    "  print(x)"
   ]
  },
  {
   "cell_type": "code",
   "execution_count": 23,
   "id": "dc45a1a7-cb69-4cfc-8f97-00addc77069d",
   "metadata": {},
   "outputs": [
    {
     "name": "stdout",
     "output_type": "stream",
     "text": [
      "2\n",
      "5\n",
      "8\n",
      "11\n",
      "14\n",
      "17\n",
      "20\n",
      "23\n",
      "26\n",
      "29\n"
     ]
    }
   ],
   "source": [
    "# 1, however it is possible to specify the increment value by adding a third parameter: range(2, 30, 3):\n",
    "for x in range(2, 30, 3):\n",
    "   print(x)"
   ]
  },
  {
   "cell_type": "markdown",
   "id": "4b3fb5ec-65e8-4ee4-8c86-646e33230251",
   "metadata": {},
   "source": [
    "# Else in FOR Loop"
   ]
  },
  {
   "cell_type": "code",
   "execution_count": 25,
   "id": "c31ac91e-c3d4-409b-b406-355492d4aaef",
   "metadata": {},
   "outputs": [
    {
     "name": "stdout",
     "output_type": "stream",
     "text": [
      "0\n",
      "1\n",
      "2\n",
      "3\n",
      "4\n",
      "5\n",
      "Finally finished!\n"
     ]
    }
   ],
   "source": [
    "for x in range(6):\n",
    "   print(x)\n",
    "else:\n",
    "   print(\"Finally finished!\")"
   ]
  },
  {
   "cell_type": "code",
   "execution_count": 27,
   "id": "526327e7-8879-485b-84de-9639ff93d75c",
   "metadata": {},
   "outputs": [
    {
     "name": "stdout",
     "output_type": "stream",
     "text": [
      "Finally finished!\n",
      "Finally finished!\n",
      "Finally finished!\n"
     ]
    }
   ],
   "source": [
    "for x in range(6): \n",
    "    if x == 3:\n",
    "        break\n",
    "        print(x)\n",
    "    else:\n",
    "        print(\"Finally finished!\")"
   ]
  },
  {
   "cell_type": "markdown",
   "id": "07e61bbd-89f2-4eea-8990-d22f2678d980",
   "metadata": {},
   "source": [
    "# Nested Loops"
   ]
  },
  {
   "cell_type": "code",
   "execution_count": 29,
   "id": "da94f4bb-a995-44df-80ff-990bcc8948e7",
   "metadata": {},
   "outputs": [
    {
     "name": "stdout",
     "output_type": "stream",
     "text": [
      "apple red\n",
      "apple yellow\n",
      "apple black\n",
      "banana red\n",
      "banana yellow\n",
      "banana black\n",
      "cherry red\n",
      "cherry yellow\n",
      "cherry black\n"
     ]
    }
   ],
   "source": [
    "fruits = [\"apple\", \"banana\", \"cherry\"]\n",
    "color =[\"red\",\"yellow\",\"black\"]\n",
    "for x in fruits:\n",
    "  for y in color:\n",
    "    print(x,y)"
   ]
  },
  {
   "cell_type": "code",
   "execution_count": null,
   "id": "83c3c49e-b0ea-4fd3-b42a-6dd366d1e6d5",
   "metadata": {},
   "outputs": [],
   "source": []
  }
 ],
 "metadata": {
  "kernelspec": {
   "display_name": "Python [conda env:base] *",
   "language": "python",
   "name": "conda-base-py"
  },
  "language_info": {
   "codemirror_mode": {
    "name": "ipython",
    "version": 3
   },
   "file_extension": ".py",
   "mimetype": "text/x-python",
   "name": "python",
   "nbconvert_exporter": "python",
   "pygments_lexer": "ipython3",
   "version": "3.13.5"
  }
 },
 "nbformat": 4,
 "nbformat_minor": 5
}
