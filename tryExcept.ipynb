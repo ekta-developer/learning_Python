{
 "cells": [
  {
   "cell_type": "markdown",
   "id": "4654a382-cf26-424e-ac13-340600b163bd",
   "metadata": {},
   "source": [
    "# try Except\n"
   ]
  },
  {
   "cell_type": "code",
   "execution_count": 2,
   "id": "caa1acc7-63d7-4c4d-ad58-e618532e46c9",
   "metadata": {},
   "outputs": [
    {
     "name": "stdout",
     "output_type": "stream",
     "text": [
      "This block is inside Except block\n"
     ]
    }
   ],
   "source": [
    "try:\n",
    "    print(x)\n",
    "except:\n",
    "    print(\"This block is inside Except block\")"
   ]
  },
  {
   "cell_type": "code",
   "execution_count": 4,
   "id": "c97e92f9-efac-478c-976e-5f590686de4f",
   "metadata": {},
   "outputs": [
    {
     "name": "stdout",
     "output_type": "stream",
     "text": [
      "This block is inside Except block\n"
     ]
    }
   ],
   "source": [
    "# This allows many exceptions\n",
    "try:\n",
    "    print(x)\n",
    "except NameError:\n",
    "    print(\"This block is inside Except block\")\n",
    "except:\n",
    "    print(\"This is second block\")"
   ]
  },
  {
   "cell_type": "code",
   "execution_count": 7,
   "id": "2f40c030-8908-4278-9b0b-b941c5277c7e",
   "metadata": {},
   "outputs": [
    {
     "name": "stdout",
     "output_type": "stream",
     "text": [
      "Hello\n",
      "Nothing went wrong\n"
     ]
    }
   ],
   "source": [
    "try:\n",
    "    print(\"Hello\")\n",
    "except:\n",
    "    print(\"Something went wrong\")\n",
    "else:\n",
    "    print(\"Nothing went wrong\")"
   ]
  },
  {
   "cell_type": "code",
   "execution_count": 8,
   "id": "5d44366d-1617-4342-a821-0b3e594579cc",
   "metadata": {},
   "outputs": [
    {
     "name": "stdout",
     "output_type": "stream",
     "text": [
      "This is x block\n",
      "The 'try except' is finished\n"
     ]
    }
   ],
   "source": [
    "#The finally block, if specified, will be executed regardless if the try block raises an error or not.\n",
    "try:\n",
    "    print(x)\n",
    "except:\n",
    "    print(\"Something went wrong\")\n",
    "finally:\n",
    "    print(\"The 'try except' is finished\")"
   ]
  },
  {
   "cell_type": "code",
   "execution_count": 11,
   "id": "d352c0b2-4c6b-4139-9339-2329a7a73f0b",
   "metadata": {},
   "outputs": [
    {
     "ename": "Exception",
     "evalue": "Sorry, no numbers below zero",
     "output_type": "error",
     "traceback": [
      "\u001b[31m---------------------------------------------------------------------------\u001b[39m",
      "\u001b[31mException\u001b[39m                                 Traceback (most recent call last)",
      "\u001b[36mCell\u001b[39m\u001b[36m \u001b[39m\u001b[32mIn[11]\u001b[39m\u001b[32m, line 4\u001b[39m\n\u001b[32m      2\u001b[39m x = -\u001b[32m1\u001b[39m\n\u001b[32m      3\u001b[39m \u001b[38;5;28;01mif\u001b[39;00m x < \u001b[32m0\u001b[39m:\n\u001b[32m----> \u001b[39m\u001b[32m4\u001b[39m    \u001b[38;5;28;01mraise\u001b[39;00m \u001b[38;5;167;01mException\u001b[39;00m(\u001b[33m\"\u001b[39m\u001b[33mSorry, no numbers below zero\u001b[39m\u001b[33m\"\u001b[39m)\n",
      "\u001b[31mException\u001b[39m: Sorry, no numbers below zero"
     ]
    }
   ],
   "source": [
    "# Raise an exception\n",
    "x = -1\n",
    "if x < 0:\n",
    "   raise Exception(\"Sorry, no numbers below zero\")"
   ]
  },
  {
   "cell_type": "code",
   "execution_count": null,
   "id": "5214ce66-1037-4d32-9ad5-649c93cfddaf",
   "metadata": {},
   "outputs": [],
   "source": []
  },
  {
   "cell_type": "code",
   "execution_count": null,
   "id": "c203601b-0c5e-4bf3-a9a1-43ef9af4abe9",
   "metadata": {},
   "outputs": [],
   "source": []
  }
 ],
 "metadata": {
  "kernelspec": {
   "display_name": "Python [conda env:base] *",
   "language": "python",
   "name": "conda-base-py"
  },
  "language_info": {
   "codemirror_mode": {
    "name": "ipython",
    "version": 3
   },
   "file_extension": ".py",
   "mimetype": "text/x-python",
   "name": "python",
   "nbconvert_exporter": "python",
   "pygments_lexer": "ipython3",
   "version": "3.13.5"
  }
 },
 "nbformat": 4,
 "nbformat_minor": 5
}
