{
 "cells": [
  {
   "cell_type": "code",
   "execution_count": 1,
   "id": "06903c38-5d26-4879-a906-6134a53824df",
   "metadata": {},
   "outputs": [
    {
     "name": "stdout",
     "output_type": "stream",
     "text": [
      "Ekta Srivastava\n"
     ]
    }
   ],
   "source": [
    "print(\"Ekta Srivastava\")"
   ]
  },
  {
   "cell_type": "code",
   "execution_count": 2,
   "id": "7dfb2988-b775-4132-8cf8-2157ddb8448e",
   "metadata": {},
   "outputs": [
    {
     "name": "stdout",
     "output_type": "stream",
     "text": [
      "12\n"
     ]
    }
   ],
   "source": [
    "print(3+9)"
   ]
  },
  {
   "cell_type": "code",
   "execution_count": 5,
   "id": "0600ee7b-4c23-4079-aed2-45efde09be02",
   "metadata": {},
   "outputs": [
    {
     "name": "stdout",
     "output_type": "stream",
     "text": [
      "Rama\n"
     ]
    }
   ],
   "source": [
    "print(\"Rama\");"
   ]
  },
  {
   "cell_type": "code",
   "execution_count": null,
   "id": "16c84fc5-e8fd-4c7e-a82a-b6515c30d022",
   "metadata": {},
   "outputs": [],
   "source": []
  }
 ],
 "metadata": {
  "kernelspec": {
   "display_name": "Python [conda env:base] *",
   "language": "python",
   "name": "conda-base-py"
  },
  "language_info": {
   "codemirror_mode": {
    "name": "ipython",
    "version": 3
   },
   "file_extension": ".py",
   "mimetype": "text/x-python",
   "name": "python",
   "nbconvert_exporter": "python",
   "pygments_lexer": "ipython3",
   "version": "3.13.5"
  }
 },
 "nbformat": 4,
 "nbformat_minor": 5
}
