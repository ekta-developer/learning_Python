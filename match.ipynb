{
 "cells": [
  {
   "cell_type": "markdown",
   "id": "370c505e-9735-4dd0-8015-3d14b20fc6da",
   "metadata": {},
   "source": [
    "# Python Match "
   ]
  },
  {
   "cell_type": "code",
   "execution_count": 1,
   "id": "9c48788e-0232-45d0-9b30-8af3484c7225",
   "metadata": {},
   "outputs": [
    {
     "name": "stdout",
     "output_type": "stream",
     "text": [
      "Thursday\n"
     ]
    }
   ],
   "source": [
    "day = 4\n",
    "match day:\n",
    "  case 1:\n",
    "    print(\"Monday\")\n",
    "  case 2:\n",
    "    print(\"Tuesday\")\n",
    "  case 3:\n",
    "    print(\"Wednesday\")\n",
    "  case 4:\n",
    "    print(\"Thursday\")\n",
    "  case 5:\n",
    "    print(\"Friday\")\n",
    "  case 6:\n",
    "    print(\"Saturday\")\n",
    "  case 7:\n",
    "    print(\"Sunday\")"
   ]
  },
  {
   "cell_type": "markdown",
   "id": "18f07b90-b9ac-4bf1-9835-65d0085633b0",
   "metadata": {},
   "source": [
    "# Default values"
   ]
  },
  {
   "cell_type": "code",
   "execution_count": 3,
   "id": "9061ce48-2ec8-4eb7-a565-f87d73a60714",
   "metadata": {},
   "outputs": [
    {
     "name": "stdout",
     "output_type": "stream",
     "text": [
      "Looking forward to the Weekend\n"
     ]
    }
   ],
   "source": [
    "day = 4\n",
    "match day:\n",
    "    case 6:\n",
    "        print(\"Today is Saturday\") \n",
    "    case 7:\n",
    "        print(\"Today is Sunday\") \n",
    "    case _:\n",
    "        print(\"Looking forward to the Weekend\")"
   ]
  },
  {
   "cell_type": "markdown",
   "id": "c071e289-877b-46bf-8c34-d345b59170b9",
   "metadata": {},
   "source": [
    "# Combine values"
   ]
  },
  {
   "cell_type": "code",
   "execution_count": 5,
   "id": "86a694f6-8a4e-4043-be60-3a783a646e74",
   "metadata": {},
   "outputs": [
    {
     "name": "stdout",
     "output_type": "stream",
     "text": [
      "Today is a weekday\n"
     ]
    }
   ],
   "source": [
    "# using pipe | character for evalution to check more than one value\n",
    "day = 4\n",
    "match day:\n",
    "  case 1 | 2 | 3 | 4 | 5:\n",
    "    print(\"Today is a weekday\")\n",
    "  case 6 | 7:\n",
    "    print(\"I love weekends!\")"
   ]
  },
  {
   "cell_type": "markdown",
   "id": "3ae5d561-3394-442a-9734-4e698f92e9f6",
   "metadata": {},
   "source": [
    "# If statements as a Guard"
   ]
  },
  {
   "cell_type": "code",
   "execution_count": 6,
   "id": "55bb1fe2-ccb8-4066-9882-f3d151a4d02d",
   "metadata": {},
   "outputs": [
    {
     "name": "stdout",
     "output_type": "stream",
     "text": [
      "A weekday in May\n"
     ]
    }
   ],
   "source": [
    "month = 5\n",
    "day = 4\n",
    "match day:\n",
    "  case 1 | 2 | 3 | 4 | 5 if month == 4:\n",
    "    print(\"A weekday in April\")\n",
    "  case 1 | 2 | 3 | 4 | 5 if month == 5:\n",
    "    print(\"A weekday in May\")\n",
    "  case _:\n",
    "    print(\"No match\")\n"
   ]
  },
  {
   "cell_type": "code",
   "execution_count": null,
   "id": "e438c17c-6a0e-4287-bb7a-085adc898745",
   "metadata": {},
   "outputs": [],
   "source": []
  }
 ],
 "metadata": {
  "kernelspec": {
   "display_name": "Python [conda env:base] *",
   "language": "python",
   "name": "conda-base-py"
  },
  "language_info": {
   "codemirror_mode": {
    "name": "ipython",
    "version": 3
   },
   "file_extension": ".py",
   "mimetype": "text/x-python",
   "name": "python",
   "nbconvert_exporter": "python",
   "pygments_lexer": "ipython3",
   "version": "3.13.5"
  }
 },
 "nbformat": 4,
 "nbformat_minor": 5
}
