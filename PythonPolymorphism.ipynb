{
 "cells": [
  {
   "cell_type": "markdown",
   "id": "92ca99bb-6683-4ddc-a1bb-31d7887723f8",
   "metadata": {},
   "source": [
    "# Python Polymorphism"
   ]
  },
  {
   "cell_type": "markdown",
   "id": "155bb18e-db14-48ee-b27f-d2c728a1222c",
   "metadata": {},
   "source": [
    "# Python Polymorphism"
   ]
  },
  {
   "cell_type": "code",
   "execution_count": 9,
   "id": "c19d1853-724b-4e90-b990-0b0b2d8460af",
   "metadata": {},
   "outputs": [
    {
     "name": "stdout",
     "output_type": "stream",
     "text": [
      "Drive!\n",
      "Fly!\n",
      "Swim!\n"
     ]
    }
   ],
   "source": [
    "#he word \"polymorphism\" means \"many forms\"T, and in programming it refers to methods/functions/operators with the same name \n",
    "#that can be executed on many objects or classes.\n",
    "\n",
    "class Bus:\n",
    "    def __init__(self,brand,model):\n",
    "      self.brand=brand\n",
    "      self.model=model\n",
    "\n",
    "    def move(self):\n",
    "      print(\"Drive!\")\n",
    "\n",
    "class Plane:\n",
    "    def __init__(self,brand,model):\n",
    "      self.model=model\n",
    "      self.brand=brand\n",
    "\n",
    "    def move(self):\n",
    "      print(\"Fly!\")\n",
    "\n",
    "class Ship:\n",
    "    def __init__(self,brand,model):\n",
    "      self.model=model\n",
    "      self.brand=brand\n",
    "\n",
    "    def move(self):\n",
    "      print(\"Swim!\")\n",
    "\n",
    "#create an object for these  classes\n",
    "Bus1=Bus(\"Bus1\",678)\n",
    "Plane1=Plane(\"Boing\",890)\n",
    "Ship1=Ship(\"Titanic\",345)\n",
    "\n",
    "for x in (Bus1,Plane1,Ship1):\n",
    "  x.move()"
   ]
  },
  {
   "cell_type": "markdown",
   "id": "26a12e8b-2def-4146-a870-4e2ebede8c65",
   "metadata": {},
   "source": [
    "# Inheritance class Polymorphism"
   ]
  },
  {
   "cell_type": "code",
   "execution_count": 10,
   "id": "945009f9-2f8b-4f66-9808-805c561de25f",
   "metadata": {},
   "outputs": [
    {
     "name": "stdout",
     "output_type": "stream",
     "text": [
      "Ford\n",
      "Mustang\n",
      "Move!\n",
      "Ibiza\n",
      "Touring 20\n",
      "Sail!\n",
      "Boeing\n",
      "747\n",
      "Fly!\n"
     ]
    }
   ],
   "source": [
    "class Vehicle:\n",
    "  def __init__(self, brand, model):\n",
    "    self.brand = brand\n",
    "    self.model = model\n",
    "\n",
    "  def move(self):\n",
    "    print(\"Move!\")\n",
    "\n",
    "class Car(Vehicle):\n",
    "  pass\n",
    "\n",
    "class Boat(Vehicle):\n",
    "  def move(self):\n",
    "    print(\"Sail!\")\n",
    "\n",
    "class Plane(Vehicle):\n",
    "  def move(self):\n",
    "    print(\"Fly!\")\n",
    "\n",
    "car1 = Car(\"Ford\", \"Mustang\")       #Create a Car object\n",
    "boat1 = Boat(\"Ibiza\", \"Touring 20\") #Create a Boat object\n",
    "plane1 = Plane(\"Boeing\", \"747\")     #Create a Plane object\n",
    "\n",
    "for x in (car1, boat1, plane1):\n",
    "  print(x.brand)\n",
    "  print(x.model)\n",
    "  x.move()"
   ]
  },
  {
   "cell_type": "code",
   "execution_count": null,
   "id": "480da109-bd5b-4a40-8e0c-1f6d5f91a022",
   "metadata": {},
   "outputs": [],
   "source": []
  }
 ],
 "metadata": {
  "kernelspec": {
   "display_name": "Python [conda env:base] *",
   "language": "python",
   "name": "conda-base-py"
  },
  "language_info": {
   "codemirror_mode": {
    "name": "ipython",
    "version": 3
   },
   "file_extension": ".py",
   "mimetype": "text/x-python",
   "name": "python",
   "nbconvert_exporter": "python",
   "pygments_lexer": "ipython3",
   "version": "3.13.5"
  }
 },
 "nbformat": 4,
 "nbformat_minor": 5
}
