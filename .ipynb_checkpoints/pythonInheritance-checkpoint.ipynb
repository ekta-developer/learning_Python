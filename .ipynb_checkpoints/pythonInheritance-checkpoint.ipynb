{
 "cells": [
  {
   "cell_type": "markdown",
   "id": "25baa25c-df22-4aee-a3c8-e6d4f1acc726",
   "metadata": {},
   "source": [
    "# Python Inheritance"
   ]
  },
  {
   "cell_type": "code",
   "execution_count": 3,
   "id": "0f1ae769-39fb-4393-8b7a-abfa49e77f06",
   "metadata": {},
   "outputs": [],
   "source": [
    "#Inheritance allows us to define a class that inherits all the methods and properties from another class.\n",
    "#Parent class is the class being inherited from, also called base class.\n",
    "#Child class is the class that inherits from another class, also called derived class.\n"
   ]
  },
  {
   "cell_type": "markdown",
   "id": "6716acc7-0eff-43ac-abae-757b499ba785",
   "metadata": {},
   "source": [
    "# Create a Parent Class"
   ]
  },
  {
   "cell_type": "code",
   "execution_count": 4,
   "id": "2109ef6a-de46-400f-be2b-09070ca42240",
   "metadata": {},
   "outputs": [
    {
     "name": "stdout",
     "output_type": "stream",
     "text": [
      "John Doe\n"
     ]
    }
   ],
   "source": [
    "class Person:\n",
    "  def __init__(self, fname, lname):\n",
    "    self.firstname = fname\n",
    "    self.lastname = lname\n",
    "\n",
    "  def printname(self):\n",
    "    print(self.firstname, self.lastname)\n",
    "\n",
    "#Use the Person class to create an object, and then execute the printname method:\n",
    "\n",
    "x = Person(\"John\", \"Doe\")\n",
    "x.printname()\n"
   ]
  },
  {
   "cell_type": "markdown",
   "id": "1b8478b8-5d15-4e4e-93ee-b2ea3640e703",
   "metadata": {},
   "source": [
    "# Create a Child Class"
   ]
  },
  {
   "cell_type": "code",
   "execution_count": null,
   "id": "41a0685b-2e39-4329-9c9e-0541f6d266b2",
   "metadata": {},
   "outputs": [],
   "source": [
    "class Student(Person):\n",
    "    pass    "
   ]
  },
  {
   "cell_type": "markdown",
   "id": "4ddce5fb-5907-4761-877b-ca453b8a3905",
   "metadata": {},
   "source": [
    "# Add the __init__() Function"
   ]
  },
  {
   "cell_type": "code",
   "execution_count": 6,
   "id": "ef40901b-10b1-4f30-b191-6bd82dd3974a",
   "metadata": {},
   "outputs": [
    {
     "ename": "IndentationError",
     "evalue": "expected an indented block after function definition on line 2 (711667679.py, line 4)",
     "output_type": "error",
     "traceback": [
      "  \u001b[36mCell\u001b[39m\u001b[36m \u001b[39m\u001b[32mIn[6]\u001b[39m\u001b[32m, line 4\u001b[39m\n\u001b[31m    \u001b[39m\u001b[31mclass Student(Person):\u001b[39m\n                          ^\n\u001b[31mIndentationError\u001b[39m\u001b[31m:\u001b[39m expected an indented block after function definition on line 2\n"
     ]
    }
   ],
   "source": [
    "class Student(Person):\n",
    "  def __init__(self, fname, lname):\n",
    "    #add properties etc.\n",
    "#class Student(Person):\n",
    "  #def __init__(self, fname, lname):\n",
    "    #Person.__init__(self, fname, lname)"
   ]
  },
  {
   "cell_type": "code",
   "execution_count": null,
   "id": "45cf897b-036c-4f76-844d-a3eb68f44df5",
   "metadata": {},
   "outputs": [],
   "source": []
  }
 ],
 "metadata": {
  "kernelspec": {
   "display_name": "Python [conda env:base] *",
   "language": "python",
   "name": "conda-base-py"
  },
  "language_info": {
   "codemirror_mode": {
    "name": "ipython",
    "version": 3
   },
   "file_extension": ".py",
   "mimetype": "text/x-python",
   "name": "python",
   "nbconvert_exporter": "python",
   "pygments_lexer": "ipython3",
   "version": "3.13.5"
  }
 },
 "nbformat": 4,
 "nbformat_minor": 5
}
