{
 "cells": [
  {
   "cell_type": "markdown",
   "id": "47de2eee-61c0-48a3-9ce9-646e3780c0ab",
   "metadata": {},
   "source": [
    "# Python If... Else\n"
   ]
  },
  {
   "cell_type": "code",
   "execution_count": 5,
   "id": "bf214e01-1334-4dd2-a821-e269eb412d40",
   "metadata": {},
   "outputs": [
    {
     "name": "stdout",
     "output_type": "stream",
     "text": [
      "A is greater than B\n"
     ]
    }
   ],
   "source": [
    "a=89\n",
    "b=8\n",
    "if a > b:\n",
    "  print(\"A is greater than B\")"
   ]
  },
  {
   "cell_type": "markdown",
   "id": "608fbfa7-b484-49ee-80ad-8229758b4319",
   "metadata": {},
   "source": [
    "# Python Elif\n"
   ]
  },
  {
   "cell_type": "code",
   "execution_count": 6,
   "id": "d3900405-5050-4616-881a-c24683388e22",
   "metadata": {},
   "outputs": [
    {
     "name": "stdout",
     "output_type": "stream",
     "text": [
      "A is greater then B\n"
     ]
    }
   ],
   "source": [
    "a=89\n",
    "b=67\n",
    "if a > b:\n",
    "   print(\"A is greater then B\")\n",
    "elif a == b:\n",
    "    print(\"A is equals to B\")"
   ]
  },
  {
   "cell_type": "markdown",
   "id": "fc1ef089-bb5d-4456-b099-d9208b55195c",
   "metadata": {},
   "source": [
    "# Python Else"
   ]
  },
  {
   "cell_type": "code",
   "execution_count": null,
   "id": "e48d6176-56bf-44e6-81ab-e6891848cc44",
   "metadata": {},
   "outputs": [],
   "source": [
    "a=67\n",
    "b=98\n",
    "if a > b:\n",
    "   print(\"A is greater then B\")\n",
    "elif a == b:\n",
    "    print(\"A is equals to B\")"
   ]
  }
 ],
 "metadata": {
  "kernelspec": {
   "display_name": "Python [conda env:base] *",
   "language": "python",
   "name": "conda-base-py"
  },
  "language_info": {
   "codemirror_mode": {
    "name": "ipython",
    "version": 3
   },
   "file_extension": ".py",
   "mimetype": "text/x-python",
   "name": "python",
   "nbconvert_exporter": "python",
   "pygments_lexer": "ipython3",
   "version": "3.13.5"
  }
 },
 "nbformat": 4,
 "nbformat_minor": 5
}
