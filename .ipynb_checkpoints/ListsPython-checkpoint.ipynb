{
 "cells": [
  {
   "cell_type": "code",
   "execution_count": 1,
   "id": "f4414e81-fcb0-4184-843e-d87a8052cf44",
   "metadata": {},
   "outputs": [
    {
     "name": "stdout",
     "output_type": "stream",
     "text": [
      "['apple', 'banana', 'Cherry', 'Ruby', 'Banana']\n"
     ]
    }
   ],
   "source": [
    "list=[\"apple\",\"banana\",\"Cherry\",\"Ruby\",\"Banana\"]\n",
    "print(list)"
   ]
  },
  {
   "cell_type": "code",
   "execution_count": 2,
   "id": "24c28d12-4048-41ff-993e-ae3673c5ac8f",
   "metadata": {},
   "outputs": [
    {
     "name": "stdout",
     "output_type": "stream",
     "text": [
      "5\n"
     ]
    }
   ],
   "source": [
    "#check length of list\n",
    "print(len(list))"
   ]
  },
  {
   "cell_type": "code",
   "execution_count": 4,
   "id": "2402ba10-f455-4159-8b55-dbaf81a81d85",
   "metadata": {},
   "outputs": [
    {
     "name": "stdout",
     "output_type": "stream",
     "text": [
      "[67, 'Fizza', 34.89, 'D', False]\n"
     ]
    }
   ],
   "source": [
    "#a list can contains many datatypes\n",
    "listOfMultipleData=[67,\"Fizza\",34.89,\"D\",False]\n",
    "print(listOfMultipleData)\n"
   ]
  },
  {
   "cell_type": "code",
   "execution_count": 5,
   "id": "ced1ddec-9906-43d8-b1c7-61ee3b0519de",
   "metadata": {},
   "outputs": [
    {
     "name": "stdout",
     "output_type": "stream",
     "text": [
      "<class 'list'>\n"
     ]
    }
   ],
   "source": [
    "# check the type of list\n",
    "print(type(list))"
   ]
  },
  {
   "cell_type": "code",
   "execution_count": null,
   "id": "ddb4bed1-fda8-49b8-ba66-4fb0282d0e45",
   "metadata": {},
   "outputs": [],
   "source": [
    "#List constructor()\n",
    "thislist=list((\"Apple\",\"Mango\",\"banana\"))"
   ]
  },
  {
   "cell_type": "code",
   "execution_count": 6,
   "id": "44669787-97db-498c-b48c-b8620d566b39",
   "metadata": {},
   "outputs": [
    {
     "name": "stdout",
     "output_type": "stream",
     "text": [
      "D\n"
     ]
    }
   ],
   "source": [
    "# print second item of list\n",
    "listOfMultipleData=[67,\"Fizza\",34.89,\"D\",False]\n",
    "print(listOfMultipleData[3])"
   ]
  },
  {
   "cell_type": "code",
   "execution_count": 7,
   "id": "094e57ec-c978-4673-bab3-e18c4a5043c7",
   "metadata": {},
   "outputs": [
    {
     "name": "stdout",
     "output_type": "stream",
     "text": [
      "False\n",
      "D\n"
     ]
    }
   ],
   "source": [
    "#negative indexinmg\n",
    "listOfMultipleData=[67,\"Fizza\",34.89,\"D\",False]\n",
    "print(listOfMultipleData[-1])\n",
    "print(listOfMultipleData[-2])"
   ]
  },
  {
   "cell_type": "code",
   "execution_count": 8,
   "id": "b50e28eb-6313-420e-a553-36e4fa555483",
   "metadata": {},
   "outputs": [
    {
     "name": "stdout",
     "output_type": "stream",
     "text": [
      "[34.89, 'D', False]\n"
     ]
    }
   ],
   "source": [
    "#range of indexes\n",
    "listOfMultipleData=[67,\"Fizza\",34.89,\"D\",False]\n",
    "print(listOfMultipleData[2:5])"
   ]
  },
  {
   "cell_type": "code",
   "execution_count": 10,
   "id": "7b7d042f-9dc6-4794-9c7c-ea4eca8247aa",
   "metadata": {},
   "outputs": [
    {
     "name": "stdout",
     "output_type": "stream",
     "text": [
      "[67, 'Fizza', 34.89, 'D']\n"
     ]
    }
   ],
   "source": [
    "listOfMultipleData=[67,\"Fizza\",34.89,\"D\",False]\n",
    "print(listOfMultipleData[:4])"
   ]
  },
  {
   "cell_type": "code",
   "execution_count": null,
   "id": "e746b420-e1ce-4378-ae2d-4e9b4e4bc5b6",
   "metadata": {},
   "outputs": [],
   "source": [
    "listOfMultipleData=[67,\"Fizza\",34.89,\"D\",False]\n",
    "print(listOfMultipleData[3:])"
   ]
  }
 ],
 "metadata": {
  "kernelspec": {
   "display_name": "Python [conda env:base] *",
   "language": "python",
   "name": "conda-base-py"
  },
  "language_info": {
   "codemirror_mode": {
    "name": "ipython",
    "version": 3
   },
   "file_extension": ".py",
   "mimetype": "text/x-python",
   "name": "python",
   "nbconvert_exporter": "python",
   "pygments_lexer": "ipython3",
   "version": "3.13.5"
  }
 },
 "nbformat": 4,
 "nbformat_minor": 5
}
