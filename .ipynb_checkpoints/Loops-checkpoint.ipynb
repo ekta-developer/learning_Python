{
 "cells": [
  {
   "cell_type": "markdown",
   "id": "07b2cb3e-b27f-4acc-b061-da930ca7a5f8",
   "metadata": {},
   "source": [
    "# While\n",
    " while loop we can execute a set of statements as long as a condition is true.\n",
    "continue vs. break...........\n",
    "It's important to distinguish continue from break. The continue statement skips the current iteration and moves to the next, while the break statement terminates the entire loop prematurely. "
   ]
  },
  {
   "cell_type": "code",
   "execution_count": 1,
   "id": "13b73147-499b-4821-b362-3c1c0a5f8b0c",
   "metadata": {},
   "outputs": [
    {
     "name": "stdout",
     "output_type": "stream",
     "text": [
      "1\n",
      "2\n",
      "3\n",
      "4\n",
      "5\n"
     ]
    }
   ],
   "source": [
    "i = 1\n",
    "while i < 6:\n",
    "    print(i)\n",
    "    i += 1"
   ]
  },
  {
   "cell_type": "markdown",
   "id": "d1b6c15d-8e35-45c0-8473-44202ccfbbcc",
   "metadata": {},
   "source": [
    "# Break"
   ]
  },
  {
   "cell_type": "code",
   "execution_count": null,
   "id": "f7306ead-0087-46a1-8841-7d0fd0fbd178",
   "metadata": {},
   "outputs": [],
   "source": [
    "i = 1\n",
    "while i < 6:\n",
    "    print(i)\n",
    "    if i == 3:\n",
    "        break\n",
    "    i += 1"
   ]
  },
  {
   "cell_type": "markdown",
   "id": "702878db-92ac-43fc-ae0c-30f1acad620e",
   "metadata": {},
   "source": [
    "# Continue"
   ]
  },
  {
   "cell_type": "code",
   "execution_count": null,
   "id": "f678a61a-626a-41ee-b162-71c5aaa60171",
   "metadata": {},
   "outputs": [],
   "source": [
    "i = 0\n",
    "while i < 6:\n",
    "    i += 1\n",
    "    if i == 3:\n",
    "        continue\n",
    "    print(i)"
   ]
  },
  {
   "cell_type": "code",
   "execution_count": null,
   "id": "3c628315-4ee0-43c9-a92b-96dc0b360449",
   "metadata": {},
   "outputs": [],
   "source": [
    "# The else Statement\n",
    "# With the else statement we can run a block of code once when the condition no longer is true:"
   ]
  },
  {
   "cell_type": "markdown",
   "id": "b6bbeb1b-48fc-4db9-8608-80cd2e23a052",
   "metadata": {},
   "source": [
    "# FOR LOOP"
   ]
  },
  {
   "cell_type": "code",
   "execution_count": null,
   "id": "288ddab7-35d2-4f2e-b859-5a451dd28291",
   "metadata": {},
   "outputs": [],
   "source": []
  }
 ],
 "metadata": {
  "kernelspec": {
   "display_name": "Python [conda env:base] *",
   "language": "python",
   "name": "conda-base-py"
  },
  "language_info": {
   "codemirror_mode": {
    "name": "ipython",
    "version": 3
   },
   "file_extension": ".py",
   "mimetype": "text/x-python",
   "name": "python",
   "nbconvert_exporter": "python",
   "pygments_lexer": "ipython3",
   "version": "3.13.5"
  }
 },
 "nbformat": 4,
 "nbformat_minor": 5
}
