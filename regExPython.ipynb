{
 "cells": [
  {
   "cell_type": "markdown",
   "id": "96306602-22ea-44a4-9f62-bfaedd4957d2",
   "metadata": {},
   "source": [
    "# RegEx Python"
   ]
  },
  {
   "cell_type": "code",
   "execution_count": null,
   "id": "e5c69e8a-49b2-4c40-9063-fdd2a7084b59",
   "metadata": {},
   "outputs": [],
   "source": [
    "#is a sequence of characters that forms a search pattern.\n",
    "#RegEx can be used to check if a string contains the specified search pattern."
   ]
  },
  {
   "cell_type": "markdown",
   "id": "ffa62698-7fd9-4d54-8d81-0ca225671236",
   "metadata": {},
   "source": [
    "# RegEx Module"
   ]
  },
  {
   "cell_type": "code",
   "execution_count": null,
   "id": "aba3e26d-9f97-4ec2-8fc6-0df83d859951",
   "metadata": {},
   "outputs": [],
   "source": [
    "# built-in package called re,\n",
    "# built-in package called re,"
   ]
  },
  {
   "cell_type": "markdown",
   "id": "72b60d17-198e-410c-a656-22b2ef78e38f",
   "metadata": {},
   "source": [
    "# RegEx Functions"
   ]
  },
  {
   "cell_type": "code",
   "execution_count": null,
   "id": "4d68b046-81eb-44c7-aef0-fa061d39bf5e",
   "metadata": {},
   "outputs": [],
   "source": [
    "#The re module offers a set of functions that allows us to search a string for a match:\n",
    "Function\tDescription\n",
    "findall\tReturns a list containing all matches\n",
    "search\tReturns a Match object if there is a match anywhere in the string\n",
    "split\tReturns a list where the string has been split at each match\n",
    "sub\tReplaces one or many matches with a string\n"
   ]
  },
  {
   "cell_type": "markdown",
   "id": "6f6d795a-886f-4f6c-8352-fbaae242033c",
   "metadata": {},
   "source": [
    "# The findall() Function\n"
   ]
  },
  {
   "cell_type": "code",
   "execution_count": 2,
   "id": "ea2a6ce3-2489-48cd-a99f-486be2eba7ac",
   "metadata": {},
   "outputs": [
    {
     "name": "stdout",
     "output_type": "stream",
     "text": [
      "['ai', 'ai']\n"
     ]
    }
   ],
   "source": [
    "import re\n",
    "txt = \"The rain in Spain\"\n",
    "x = re.findall(\"ai\",  txt)\n",
    "print(x)"
   ]
  },
  {
   "cell_type": "markdown",
   "id": "20e650ea-c088-45fb-85a5-9b547f8a4273",
   "metadata": {},
   "source": [
    "# The search() Function\n"
   ]
  },
  {
   "cell_type": "code",
   "execution_count": 3,
   "id": "02a77695-e533-4263-a627-b55712ad99ff",
   "metadata": {},
   "outputs": [
    {
     "name": "stdout",
     "output_type": "stream",
     "text": [
      "The first white-space character is located in position: 3\n"
     ]
    },
    {
     "name": "stderr",
     "output_type": "stream",
     "text": [
      "<>:4: SyntaxWarning: invalid escape sequence '\\s'\n",
      "<>:4: SyntaxWarning: invalid escape sequence '\\s'\n",
      "C:\\Users\\Quaere\\AppData\\Local\\Temp\\ipykernel_16232\\1271441844.py:4: SyntaxWarning: invalid escape sequence '\\s'\n",
      "  x = re.search(\"\\s\",  txt)\n"
     ]
    }
   ],
   "source": [
    "#The search() function searches the string for a match, and returns a Match object if there is a match.\n",
    "import re\n",
    "txt = \"The rain in Spain\"\n",
    "x = re.search(\"\\s\",  txt)\n",
    "print(\"The first white-space character is located in position:\", x.start())"
   ]
  },
  {
   "cell_type": "code",
   "execution_count": 4,
   "id": "763aecd3-c7f3-422e-9eee-0340974d4e51",
   "metadata": {},
   "outputs": [],
   "source": [
    "#If no matches are found, the value None is returned:"
   ]
  },
  {
   "cell_type": "markdown",
   "id": "5c62bed7-83e3-42e0-a537-50fcc3b7f8be",
   "metadata": {},
   "source": [
    "# The split() Function\n"
   ]
  },
  {
   "cell_type": "code",
   "execution_count": 5,
   "id": "159b3d9b-7c5f-4d15-8e5a-4f598244bece",
   "metadata": {},
   "outputs": [
    {
     "name": "stdout",
     "output_type": "stream",
     "text": [
      "['The', 'rain', 'in', 'Spain']\n"
     ]
    },
    {
     "name": "stderr",
     "output_type": "stream",
     "text": [
      "<>:5: SyntaxWarning: invalid escape sequence '\\s'\n",
      "<>:5: SyntaxWarning: invalid escape sequence '\\s'\n",
      "C:\\Users\\Quaere\\AppData\\Local\\Temp\\ipykernel_16232\\1852866465.py:5: SyntaxWarning: invalid escape sequence '\\s'\n",
      "  x = re.split(\"\\s\", txt)\n"
     ]
    }
   ],
   "source": [
    "#The split() function returns a list where the string has been split at each match:\n",
    "import re\n",
    "\n",
    "txt = \"The rain in Spain\"\n",
    "x = re.split(\"\\s\", txt)\n",
    "print(x)"
   ]
  },
  {
   "cell_type": "markdown",
   "id": "1637fc73-6d1d-4e71-b684-6c6c6a4bf4b1",
   "metadata": {},
   "source": [
    "# The sub() Function\n"
   ]
  },
  {
   "cell_type": "code",
   "execution_count": 6,
   "id": "f9cbf9ec-68e6-417e-8179-ce0a30f935fd",
   "metadata": {},
   "outputs": [
    {
     "name": "stdout",
     "output_type": "stream",
     "text": [
      "The9rain9in9Spain\n"
     ]
    },
    {
     "name": "stderr",
     "output_type": "stream",
     "text": [
      "<>:5: SyntaxWarning: invalid escape sequence '\\s'\n",
      "<>:5: SyntaxWarning: invalid escape sequence '\\s'\n",
      "C:\\Users\\Quaere\\AppData\\Local\\Temp\\ipykernel_16232\\4176026554.py:5: SyntaxWarning: invalid escape sequence '\\s'\n",
      "  x = re.sub(\"\\s\", \"9\", txt)\n"
     ]
    }
   ],
   "source": [
    "#The sub() function replaces the matches with the text of your choice:\n",
    "import re\n",
    "\n",
    "txt = \"The rain in Spain\"\n",
    "x = re.sub(\"\\s\", \"9\", txt)\n",
    "print(x)"
   ]
  },
  {
   "cell_type": "code",
   "execution_count": null,
   "id": "c00ffa86-d604-4af1-8df3-75e8363c6bda",
   "metadata": {},
   "outputs": [],
   "source": []
  }
 ],
 "metadata": {
  "kernelspec": {
   "display_name": "Python [conda env:base] *",
   "language": "python",
   "name": "conda-base-py"
  },
  "language_info": {
   "codemirror_mode": {
    "name": "ipython",
    "version": 3
   },
   "file_extension": ".py",
   "mimetype": "text/x-python",
   "name": "python",
   "nbconvert_exporter": "python",
   "pygments_lexer": "ipython3",
   "version": "3.13.5"
  }
 },
 "nbformat": 4,
 "nbformat_minor": 5
}
