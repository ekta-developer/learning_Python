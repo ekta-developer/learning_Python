{
 "cells": [
  {
   "cell_type": "code",
   "execution_count": null,
   "id": "e5a90269-4706-41c6-bc92-3895c7d28b4b",
   "metadata": {
    "scrolled": true
   },
   "outputs": [],
   "source": [
    "print(\"Herre in this file i practise how the cell can be added, deleted and move up and down\");"
   ]
  },
  {
   "cell_type": "code",
   "execution_count": 3,
   "id": "f0cd6a42-2712-47ca-b4a9-d6072f29155f",
   "metadata": {},
   "outputs": [
    {
     "name": "stdout",
     "output_type": "stream",
     "text": [
      "You have a drag and drop cursor to move your cell\n"
     ]
    }
   ],
   "source": [
    "print(\"You have a drag and drop cursor to move your cell\");"
   ]
  },
  {
   "cell_type": "code",
   "execution_count": 4,
   "id": "d97212ba-a691-4e2d-a161-61f2b363122b",
   "metadata": {},
   "outputs": [
    {
     "name": "stdout",
     "output_type": "stream",
     "text": [
      "You also allowed to add Headings in your NOtebook by using INSERT option\n"
     ]
    }
   ],
   "source": [
    "print(\"You also allowed to add Headings in your NOtebook by using t Second Toolbar option\");"
   ]
  },
  {
   "cell_type": "code",
   "execution_count": 5,
   "id": "c98d6270-4345-4c4c-8570-984acfd21d6e",
   "metadata": {},
   "outputs": [
    {
     "name": "stdout",
     "output_type": "stream",
     "text": [
      "You also allowed to add Headings in your NOtebook by using t Second Toolbar option\n"
     ]
    }
   ],
   "source": [
    "# Assistant\n",
    "# Display a message about adding headings in Jupyter Notebook using the second toolbar option\n",
    "print(\"You also allowed to add Headings in your NOtebook by using t Second Toolbar option\");"
   ]
  },
  {
   "cell_type": "markdown",
   "id": "f4a2952a-3642-4288-8f1c-e1bf03a05e65",
   "metadata": {
    "jp-MarkdownHeadingCollapsed": true
   },
   "source": [
    "# User\n",
    "okay apply this"
   ]
  },
  {
   "cell_type": "code",
   "execution_count": 6,
   "id": "e02c3719-4fb3-4468-87f9-ef65c08b90f1",
   "metadata": {},
   "outputs": [
    {
     "name": "stdout",
     "output_type": "stream",
     "text": [
      "You also allowed to add Headings in your NOtebook by using t Second Toolbar option\n"
     ]
    }
   ],
   "source": [
    "# Assistant\n",
    "# Display a message about adding headings in Jupyter Notebook using the second toolbar option\n",
    "print(\"You also allowed to add Headings in your NOtebook by using t Second Toolbar option\");"
   ]
  },
  {
   "cell_type": "code",
   "execution_count": 7,
   "id": "5146e5c1-e006-49be-98a0-9b7ae981f957",
   "metadata": {},
   "outputs": [
    {
     "name": "stdout",
     "output_type": "stream",
     "text": [
      "If, you want to add comments or heading(notebook) in it simply use AI assistant\n"
     ]
    }
   ],
   "source": [
    "print(\"If, you want to add comments or heading(notebook) in it simply use AI assistant\")"
   ]
  },
  {
   "cell_type": "code",
   "execution_count": null,
   "id": "fb829c69-a7ee-4ad4-ad03-1187b07ecdac",
   "metadata": {},
   "outputs": [],
   "source": []
  }
 ],
 "metadata": {
  "kernelspec": {
   "display_name": "Python [conda env:base] *",
   "language": "python",
   "name": "conda-base-py"
  },
  "language_info": {
   "codemirror_mode": {
    "name": "ipython",
    "version": 3
   },
   "file_extension": ".py",
   "mimetype": "text/x-python",
   "name": "python",
   "nbconvert_exporter": "python",
   "pygments_lexer": "ipython3",
   "version": "3.13.5"
  }
 },
 "nbformat": 4,
 "nbformat_minor": 5
}
